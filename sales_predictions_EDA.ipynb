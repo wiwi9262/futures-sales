{
 "cells": [
  {
   "cell_type": "markdown",
   "id": "15872b6b-0ed4-4657-8aa3-bbfaedb50cb0",
   "metadata": {},
   "source": [
    "# Sales Predictions using Time Series Data\n",
    "* https://www.kaggle.com/competitions/competitive-data-science-predict-future-sales/data"
   ]
  },
  {
   "cell_type": "markdown",
   "id": "20f61c67-d245-4bca-875e-c9739fd17c23",
   "metadata": {},
   "source": [
    "## Overview of Problem"
   ]
  },
  {
   "cell_type": "markdown",
   "id": "c140e665-78f2-4bf7-87c0-10e4be3206c8",
   "metadata": {},
   "source": [
    "\"You are provided with daily historical sales data. The task is to forecast the total amount of products sold in every shop for the test set. Note that the list of shops and products slightly changes every month. Creating a robust model that can handle such situations is part of the challenge.\" *(src: competition page)*"
   ]
  },
  {
   "cell_type": "markdown",
   "id": "4daa1549-7044-49de-887e-1f5f64b74d7b",
   "metadata": {},
   "source": [
    "* The data set contain information on historical sales for software stores in Russia\n",
    "* The items can change every month, which can make things interesting\n",
    "* Even though the items change, they can be grouped into categories\n",
    "* There are already some categories in the training data, but there are still some gaps that we need to filled in by clustering items."
   ]
  },
  {
   "cell_type": "markdown",
   "id": "411fa503-03fd-4b42-90c7-a74a5f6ec8bc",
   "metadata": {},
   "source": [
    "## Imports"
   ]
  },
  {
   "cell_type": "code",
   "execution_count": 3,
   "id": "7d230b37-d476-49a4-8d0b-e96591e8c34a",
   "metadata": {},
   "outputs": [],
   "source": [
    "import numpy as np \n",
    "import pandas as pd\n",
    "import os\n",
    "import matplotlib.pyplot as plt\n",
    "import seaborn as sns"
   ]
  },
  {
   "cell_type": "markdown",
   "id": "7c1ec3ef-bb38-46c8-a3f2-4e73f64238dc",
   "metadata": {},
   "source": [
    "## Load Data and Data Description"
   ]
  },
  {
   "cell_type": "markdown",
   "id": "070a0863-c965-45f0-b671-bf749d947555",
   "metadata": {
    "tags": []
   },
   "source": [
    "#### File descriptions\n",
    "* sales_train.csv - the training set. Daily historical data from January 2013 to October 2015.\n",
    "* test.csv - the test set. You need to forecast the sales for these shops and products for November 2015.\n",
    "* sample_submission.csv - a sample submission file in the correct format.\n",
    "* items.csv - supplemental information about the items/products.\n",
    "* item_categories.csv  - supplemental information about the items categories.\n",
    "* shops.csv- supplemental information about the shops.\n",
    "#### Data fields\n",
    "* ID - an Id that represents a (Shop, Item) tuple within the test set\n",
    "* shop_id - unique identifier of a shop\n",
    "* item_id - unique identifier of a product\n",
    "* item_category_id - unique identifier of item category\n",
    "* item_cnt_day - number of products sold. You are predicting a monthly amount of this measure\n",
    "* item_price - current price of an item\n",
    "* date - date in format dd/mm/yyyy\n",
    "* date_block_num - a consecutive month number, used for convenience. January 2013 is 0, February 2013 is 1,..., October 2015 is 33\n",
    "* item_name - name of item\n",
    "* shop_name - name of shop\n",
    "* item_category_name - name of item category\n",
    "\n",
    "*(from competition description)*"
   ]
  },
  {
   "cell_type": "code",
   "execution_count": null,
   "id": "994bf164-0d05-468a-bbd7-f408be5696e2",
   "metadata": {},
   "outputs": [],
   "source": [
    "# Load the data"
   ]
  },
  {
   "cell_type": "code",
   "execution_count": 4,
   "id": "1e13200c-4369-47f6-b028-6b452543c7c2",
   "metadata": {},
   "outputs": [],
   "source": [
    "dfSales = pd.read_csv(\"../input/future-sales/sales_train.csv\")"
   ]
  },
  {
   "cell_type": "code",
   "execution_count": 7,
   "id": "7785c00e-81f1-497f-af86-7d88374f6385",
   "metadata": {},
   "outputs": [
    {
     "name": "stdout",
     "output_type": "stream",
     "text": [
      "<class 'pandas.core.frame.DataFrame'>\n",
      "RangeIndex: 2935849 entries, 0 to 2935848\n",
      "Data columns (total 6 columns):\n",
      " #   Column          Dtype  \n",
      "---  ------          -----  \n",
      " 0   date            object \n",
      " 1   date_block_num  int64  \n",
      " 2   shop_id         int64  \n",
      " 3   item_id         int64  \n",
      " 4   item_price      float64\n",
      " 5   item_cnt_day    float64\n",
      "dtypes: float64(2), int64(3), object(1)\n",
      "memory usage: 134.4+ MB\n"
     ]
    }
   ],
   "source": [
    "# Quick Stats on the data\n",
    "dfSales.info()"
   ]
  },
  {
   "cell_type": "code",
   "execution_count": 11,
   "id": "4d4c7536-d35f-43c8-afee-329fcdb66149",
   "metadata": {},
   "outputs": [
    {
     "data": {
      "text/plain": [
       "date              0\n",
       "date_block_num    0\n",
       "shop_id           0\n",
       "item_id           0\n",
       "item_price        0\n",
       "item_cnt_day      0\n",
       "dtype: int64"
      ]
     },
     "execution_count": 11,
     "metadata": {},
     "output_type": "execute_result"
    }
   ],
   "source": [
    "dfSales.isnull().sum()"
   ]
  },
  {
   "cell_type": "markdown",
   "id": "c3a16445-02d2-42f5-843d-00268ef34d96",
   "metadata": {},
   "source": [
    "There are not any null values, but the instructions mention that there are holes in data for stores and items within some months. I am going to transform the data into a dataframe with item and store as the key and the sums for each month in the columns. "
   ]
  },
  {
   "cell_type": "code",
   "execution_count": 12,
   "id": "10441817-b1c2-4f35-8ef5-da085b299700",
   "metadata": {},
   "outputs": [
    {
     "data": {
      "text/html": [
       "<div>\n",
       "<style scoped>\n",
       "    .dataframe tbody tr th:only-of-type {\n",
       "        vertical-align: middle;\n",
       "    }\n",
       "\n",
       "    .dataframe tbody tr th {\n",
       "        vertical-align: top;\n",
       "    }\n",
       "\n",
       "    .dataframe thead th {\n",
       "        text-align: right;\n",
       "    }\n",
       "</style>\n",
       "<table border=\"1\" class=\"dataframe\">\n",
       "  <thead>\n",
       "    <tr style=\"text-align: right;\">\n",
       "      <th></th>\n",
       "      <th>date</th>\n",
       "      <th>date_block_num</th>\n",
       "      <th>shop_id</th>\n",
       "      <th>item_id</th>\n",
       "      <th>item_price</th>\n",
       "      <th>item_cnt_day</th>\n",
       "    </tr>\n",
       "  </thead>\n",
       "  <tbody>\n",
       "    <tr>\n",
       "      <th>0</th>\n",
       "      <td>02.01.2013</td>\n",
       "      <td>0</td>\n",
       "      <td>59</td>\n",
       "      <td>22154</td>\n",
       "      <td>999.00</td>\n",
       "      <td>1.0</td>\n",
       "    </tr>\n",
       "    <tr>\n",
       "      <th>1</th>\n",
       "      <td>03.01.2013</td>\n",
       "      <td>0</td>\n",
       "      <td>25</td>\n",
       "      <td>2552</td>\n",
       "      <td>899.00</td>\n",
       "      <td>1.0</td>\n",
       "    </tr>\n",
       "    <tr>\n",
       "      <th>2</th>\n",
       "      <td>05.01.2013</td>\n",
       "      <td>0</td>\n",
       "      <td>25</td>\n",
       "      <td>2552</td>\n",
       "      <td>899.00</td>\n",
       "      <td>-1.0</td>\n",
       "    </tr>\n",
       "    <tr>\n",
       "      <th>3</th>\n",
       "      <td>06.01.2013</td>\n",
       "      <td>0</td>\n",
       "      <td>25</td>\n",
       "      <td>2554</td>\n",
       "      <td>1709.05</td>\n",
       "      <td>1.0</td>\n",
       "    </tr>\n",
       "    <tr>\n",
       "      <th>4</th>\n",
       "      <td>15.01.2013</td>\n",
       "      <td>0</td>\n",
       "      <td>25</td>\n",
       "      <td>2555</td>\n",
       "      <td>1099.00</td>\n",
       "      <td>1.0</td>\n",
       "    </tr>\n",
       "  </tbody>\n",
       "</table>\n",
       "</div>"
      ],
      "text/plain": [
       "         date  date_block_num  shop_id  item_id  item_price  item_cnt_day\n",
       "0  02.01.2013               0       59    22154      999.00           1.0\n",
       "1  03.01.2013               0       25     2552      899.00           1.0\n",
       "2  05.01.2013               0       25     2552      899.00          -1.0\n",
       "3  06.01.2013               0       25     2554     1709.05           1.0\n",
       "4  15.01.2013               0       25     2555     1099.00           1.0"
      ]
     },
     "execution_count": 12,
     "metadata": {},
     "output_type": "execute_result"
    }
   ],
   "source": [
    "dfSales.head()"
   ]
  },
  {
   "cell_type": "markdown",
   "id": "33b981b7-6a23-453b-a240-13d67523f617",
   "metadata": {},
   "source": [
    "Much of the text of the data is in Russian. This is not really relevant because we do not need to look at item descriptions and category names. We can work with just IDs. I don't see any need to load the item and shops files unless I want to include item descriptions in my report."
   ]
  },
  {
   "cell_type": "markdown",
   "id": "e7e58849-a1f2-4c16-b62a-c21c9f82f395",
   "metadata": {},
   "source": [
    "## Exploratory Data Analysis and Data Cleaning"
   ]
  },
  {
   "cell_type": "code",
   "execution_count": 16,
   "id": "8cd62570-633d-41a3-b554-f57307274f7a",
   "metadata": {},
   "outputs": [
    {
     "name": "stdout",
     "output_type": "stream",
     "text": [
      "Sales Count Mean: 1.242640885140891\n",
      "Sales Count Standard Deviation: 2.618834430895425\n",
      "Sales Count Max: 2169.0\n"
     ]
    }
   ],
   "source": [
    "print(\"Sales Count Mean:\",dfSales['item_cnt_day'].mean())\n",
    "print(\"Sales Count Standard Deviation:\",dfSales['item_cnt_day'].std())\n",
    "print(\"Sales Count Max:\",dfSales['item_cnt_day'].max())"
   ]
  },
  {
   "cell_type": "code",
   "execution_count": 21,
   "id": "62b09a55-05a4-4275-9328-115726791cbd",
   "metadata": {},
   "outputs": [
    {
     "data": {
      "image/png": "[encoded data removed]",
      "text/plain": [
       "<Figure size 432x288 with 1 Axes>"
      ]
     },
     "metadata": {
      "needs_background": "light"
     },
     "output_type": "display_data"
    }
   ],
   "source": [
    "# It looks like there may be some outliers\n",
    "sns.boxplot(x=dfSales['item_cnt_day'])\n",
    "plt.title(\"Box Plot of Item Count Per Day\");"
   ]
  },
  {
   "cell_type": "code",
   "execution_count": null,
   "id": "8c446b5b-da5e-42da-9370-ca1604596268",
   "metadata": {},
   "outputs": [],
   "source": [
    "# Before transforming the data, I want to grab some histograms by store and item\n",
    "# This will not take the daily count into consideration \n",
    "# The mean is close to 1 so a simple histogram will be a decent visualization to get started\n",
    "# As we can see from the boxplot three are some outliers and they will be treated the same in the histogram as a single sale\n"
   ]
  },
  {
   "cell_type": "code",
   "execution_count": 25,
   "id": "5286ffba-d477-430c-bac9-f5ebeda01e21",
   "metadata": {},
   "outputs": [
    {
     "data": {
      "text/plain": [
       "Text(0.5, 1.0, 'Histogram of Records for item_ids')"
      ]
     },
     "execution_count": 25,
     "metadata": {},
     "output_type": "execute_result"
    },
    {
     "data": {
      "image/png": "[encoded data removed]",
      "text/plain": [
       "<Figure size 432x288 with 1 Axes>"
      ]
     },
     "metadata": {
      "needs_background": "light"
     },
     "output_type": "display_data"
    }
   ],
   "source": [
    "sns.histplot(dfSales['item_id'])\n",
    "plt.title(\"Histogram of Records for item_ids\")"
   ]
  },
  {
   "cell_type": "code",
   "execution_count": 26,
   "id": "039a835f-d5b4-4597-b654-9c45517bcba8",
   "metadata": {},
   "outputs": [
    {
     "data": {
      "text/plain": [
       "Text(0.5, 1.0, 'Histogram of Records for shop_ids')"
      ]
     },
     "execution_count": 26,
     "metadata": {},
     "output_type": "execute_result"
    },
    {
     "data": {
      "image/png": "[encoded data removed]",
      "text/plain": [
       "<Figure size 432x288 with 1 Axes>"
      ]
     },
     "metadata": {
      "needs_background": "light"
     },
     "output_type": "display_data"
    }
   ],
   "source": [
    "sns.histplot(dfSales['shop_id'])\n",
    "plt.title(\"Histogram of Records for shop_ids\")"
   ]
  },
  {
   "cell_type": "code",
   "execution_count": 36,
   "id": "5805e3b3-4867-4cae-abd1-ee7c5a6c3006",
   "metadata": {},
   "outputs": [
    {
     "data": {
      "text/html": [
       "<div>\n",
       "<style scoped>\n",
       "    .dataframe tbody tr th:only-of-type {\n",
       "        vertical-align: middle;\n",
       "    }\n",
       "\n",
       "    .dataframe tbody tr th {\n",
       "        vertical-align: top;\n",
       "    }\n",
       "\n",
       "    .dataframe thead th {\n",
       "        text-align: right;\n",
       "    }\n",
       "</style>\n",
       "<table border=\"1\" class=\"dataframe\">\n",
       "  <thead>\n",
       "    <tr style=\"text-align: right;\">\n",
       "      <th></th>\n",
       "      <th>shop_id</th>\n",
       "      <th>item_cnt_day</th>\n",
       "    </tr>\n",
       "  </thead>\n",
       "  <tbody>\n",
       "    <tr>\n",
       "      <th>0</th>\n",
       "      <td>0</td>\n",
       "      <td>11705.0</td>\n",
       "    </tr>\n",
       "    <tr>\n",
       "      <th>1</th>\n",
       "      <td>1</td>\n",
       "      <td>6311.0</td>\n",
       "    </tr>\n",
       "    <tr>\n",
       "      <th>2</th>\n",
       "      <td>2</td>\n",
       "      <td>30620.0</td>\n",
       "    </tr>\n",
       "    <tr>\n",
       "      <th>3</th>\n",
       "      <td>3</td>\n",
       "      <td>28355.0</td>\n",
       "    </tr>\n",
       "    <tr>\n",
       "      <th>4</th>\n",
       "      <td>4</td>\n",
       "      <td>43942.0</td>\n",
       "    </tr>\n",
       "  </tbody>\n",
       "</table>\n",
       "</div>"
      ],
      "text/plain": [
       "   shop_id  item_cnt_day\n",
       "0        0       11705.0\n",
       "1        1        6311.0\n",
       "2        2       30620.0\n",
       "3        3       28355.0\n",
       "4        4       43942.0"
      ]
     },
     "execution_count": 36,
     "metadata": {},
     "output_type": "execute_result"
    }
   ],
   "source": [
    "# There are clearly shops with fewer sales, I am curious if the ones with fewer sales have bigger numbers per sale\n",
    "# Lets group by shop ID\n",
    "dfShopItems = dfSales.groupby(by='shop_id').sum()['item_cnt_day'].reset_index()\n",
    "dfShopItems.head()"
   ]
  },
  {
   "cell_type": "code",
   "execution_count": 37,
   "id": "827bb48f-0f4a-438f-b1d5-376df125b071",
   "metadata": {},
   "outputs": [
    {
     "data": {
      "image/png": "[encoded data removed]",
      "text/plain": [
       "<Figure size 432x288 with 1 Axes>"
      ]
     },
     "metadata": {
      "needs_background": "light"
     },
     "output_type": "display_data"
    }
   ],
   "source": [
    "sns.boxplot(x=dfShopItems['item_cnt_day'])\n",
    "plt.title(\"Box Plot of Item Sum per Shop\");\n",
    "# Nice outliers"
   ]
  },
  {
   "cell_type": "code",
   "execution_count": 41,
   "id": "8378749b-0186-42d0-a3ca-d749c80f3ebf",
   "metadata": {},
   "outputs": [
    {
     "data": {
      "text/html": [
       "<div>\n",
       "<style scoped>\n",
       "    .dataframe tbody tr th:only-of-type {\n",
       "        vertical-align: middle;\n",
       "    }\n",
       "\n",
       "    .dataframe tbody tr th {\n",
       "        vertical-align: top;\n",
       "    }\n",
       "\n",
       "    .dataframe thead th {\n",
       "        text-align: right;\n",
       "    }\n",
       "</style>\n",
       "<table border=\"1\" class=\"dataframe\">\n",
       "  <thead>\n",
       "    <tr style=\"text-align: right;\">\n",
       "      <th></th>\n",
       "      <th>shop_id</th>\n",
       "      <th>item_cnt_day</th>\n",
       "    </tr>\n",
       "  </thead>\n",
       "  <tbody>\n",
       "    <tr>\n",
       "      <th>count</th>\n",
       "      <td>60.000000</td>\n",
       "      <td>60.000000</td>\n",
       "    </tr>\n",
       "    <tr>\n",
       "      <th>mean</th>\n",
       "      <td>29.500000</td>\n",
       "      <td>60803.433333</td>\n",
       "    </tr>\n",
       "    <tr>\n",
       "      <th>std</th>\n",
       "      <td>17.464249</td>\n",
       "      <td>57992.901750</td>\n",
       "    </tr>\n",
       "    <tr>\n",
       "      <th>min</th>\n",
       "      <td>0.000000</td>\n",
       "      <td>330.000000</td>\n",
       "    </tr>\n",
       "    <tr>\n",
       "      <th>25%</th>\n",
       "      <td>14.750000</td>\n",
       "      <td>23333.000000</td>\n",
       "    </tr>\n",
       "    <tr>\n",
       "      <th>50%</th>\n",
       "      <td>29.500000</td>\n",
       "      <td>50176.000000</td>\n",
       "    </tr>\n",
       "    <tr>\n",
       "      <th>75%</th>\n",
       "      <td>44.250000</td>\n",
       "      <td>69562.250000</td>\n",
       "    </tr>\n",
       "    <tr>\n",
       "      <th>max</th>\n",
       "      <td>59.000000</td>\n",
       "      <td>310777.000000</td>\n",
       "    </tr>\n",
       "  </tbody>\n",
       "</table>\n",
       "</div>"
      ],
      "text/plain": [
       "         shop_id   item_cnt_day\n",
       "count  60.000000      60.000000\n",
       "mean   29.500000   60803.433333\n",
       "std    17.464249   57992.901750\n",
       "min     0.000000     330.000000\n",
       "25%    14.750000   23333.000000\n",
       "50%    29.500000   50176.000000\n",
       "75%    44.250000   69562.250000\n",
       "max    59.000000  310777.000000"
      ]
     },
     "execution_count": 41,
     "metadata": {},
     "output_type": "execute_result"
    }
   ],
   "source": [
    "dfShopItems.describe()"
   ]
  },
  {
   "cell_type": "code",
   "execution_count": 45,
   "id": "a97deef6-b2b2-4618-b3d5-de81066e27a8",
   "metadata": {},
   "outputs": [
    {
     "data": {
      "text/html": [
       "<div>\n",
       "<style scoped>\n",
       "    .dataframe tbody tr th:only-of-type {\n",
       "        vertical-align: middle;\n",
       "    }\n",
       "\n",
       "    .dataframe tbody tr th {\n",
       "        vertical-align: top;\n",
       "    }\n",
       "\n",
       "    .dataframe thead th {\n",
       "        text-align: right;\n",
       "    }\n",
       "</style>\n",
       "<table border=\"1\" class=\"dataframe\">\n",
       "  <thead>\n",
       "    <tr style=\"text-align: right;\">\n",
       "      <th></th>\n",
       "      <th>shop_id</th>\n",
       "      <th>item_cnt_day</th>\n",
       "    </tr>\n",
       "  </thead>\n",
       "  <tbody>\n",
       "    <tr>\n",
       "      <th>25</th>\n",
       "      <td>25</td>\n",
       "      <td>241920.0</td>\n",
       "    </tr>\n",
       "    <tr>\n",
       "      <th>28</th>\n",
       "      <td>28</td>\n",
       "      <td>184557.0</td>\n",
       "    </tr>\n",
       "    <tr>\n",
       "      <th>31</th>\n",
       "      <td>31</td>\n",
       "      <td>310777.0</td>\n",
       "    </tr>\n",
       "    <tr>\n",
       "      <th>42</th>\n",
       "      <td>42</td>\n",
       "      <td>144934.0</td>\n",
       "    </tr>\n",
       "    <tr>\n",
       "      <th>54</th>\n",
       "      <td>54</td>\n",
       "      <td>185790.0</td>\n",
       "    </tr>\n",
       "    <tr>\n",
       "      <th>57</th>\n",
       "      <td>57</td>\n",
       "      <td>141107.0</td>\n",
       "    </tr>\n",
       "  </tbody>\n",
       "</table>\n",
       "</div>"
      ],
      "text/plain": [
       "    shop_id  item_cnt_day\n",
       "25       25      241920.0\n",
       "28       28      184557.0\n",
       "31       31      310777.0\n",
       "42       42      144934.0\n",
       "54       54      185790.0\n",
       "57       57      141107.0"
      ]
     },
     "execution_count": 45,
     "metadata": {},
     "output_type": "execute_result"
    }
   ],
   "source": [
    "dfShopItems[dfShopItems['item_cnt_day'] > 140000]"
   ]
  },
  {
   "cell_type": "code",
   "execution_count": 47,
   "id": "d9687331-1001-4e68-a518-8dcdb1404715",
   "metadata": {},
   "outputs": [
    {
     "data": {
      "text/html": [
       "<div>\n",
       "<style scoped>\n",
       "    .dataframe tbody tr th:only-of-type {\n",
       "        vertical-align: middle;\n",
       "    }\n",
       "\n",
       "    .dataframe tbody tr th {\n",
       "        vertical-align: top;\n",
       "    }\n",
       "\n",
       "    .dataframe thead th {\n",
       "        text-align: right;\n",
       "    }\n",
       "</style>\n",
       "<table border=\"1\" class=\"dataframe\">\n",
       "  <thead>\n",
       "    <tr style=\"text-align: right;\">\n",
       "      <th></th>\n",
       "      <th>date_block_num</th>\n",
       "      <th>shop_id</th>\n",
       "      <th>item_id</th>\n",
       "      <th>item_price</th>\n",
       "      <th>item_cnt_day</th>\n",
       "    </tr>\n",
       "  </thead>\n",
       "  <tbody>\n",
       "    <tr>\n",
       "      <th>count</th>\n",
       "      <td>235636.000000</td>\n",
       "      <td>235636.0</td>\n",
       "      <td>235636.000000</td>\n",
       "      <td>235636.000000</td>\n",
       "      <td>235636.000000</td>\n",
       "    </tr>\n",
       "    <tr>\n",
       "      <th>mean</th>\n",
       "      <td>14.935341</td>\n",
       "      <td>31.0</td>\n",
       "      <td>11093.120033</td>\n",
       "      <td>724.691619</td>\n",
       "      <td>1.318886</td>\n",
       "    </tr>\n",
       "    <tr>\n",
       "      <th>std</th>\n",
       "      <td>9.544102</td>\n",
       "      <td>0.0</td>\n",
       "      <td>6176.734564</td>\n",
       "      <td>1383.986135</td>\n",
       "      <td>2.199277</td>\n",
       "    </tr>\n",
       "    <tr>\n",
       "      <th>min</th>\n",
       "      <td>0.000000</td>\n",
       "      <td>31.0</td>\n",
       "      <td>26.000000</td>\n",
       "      <td>0.100000</td>\n",
       "      <td>-2.000000</td>\n",
       "    </tr>\n",
       "    <tr>\n",
       "      <th>25%</th>\n",
       "      <td>7.000000</td>\n",
       "      <td>31.0</td>\n",
       "      <td>5612.000000</td>\n",
       "      <td>199.000000</td>\n",
       "      <td>1.000000</td>\n",
       "    </tr>\n",
       "    <tr>\n",
       "      <th>50%</th>\n",
       "      <td>14.000000</td>\n",
       "      <td>31.0</td>\n",
       "      <td>11268.000000</td>\n",
       "      <td>374.250000</td>\n",
       "      <td>1.000000</td>\n",
       "    </tr>\n",
       "    <tr>\n",
       "      <th>75%</th>\n",
       "      <td>23.000000</td>\n",
       "      <td>31.0</td>\n",
       "      <td>16205.000000</td>\n",
       "      <td>790.000000</td>\n",
       "      <td>1.000000</td>\n",
       "    </tr>\n",
       "    <tr>\n",
       "      <th>max</th>\n",
       "      <td>33.000000</td>\n",
       "      <td>31.0</td>\n",
       "      <td>22167.000000</td>\n",
       "      <td>35991.000000</td>\n",
       "      <td>288.000000</td>\n",
       "    </tr>\n",
       "  </tbody>\n",
       "</table>\n",
       "</div>"
      ],
      "text/plain": [
       "       date_block_num   shop_id        item_id     item_price   item_cnt_day\n",
       "count   235636.000000  235636.0  235636.000000  235636.000000  235636.000000\n",
       "mean        14.935341      31.0   11093.120033     724.691619       1.318886\n",
       "std          9.544102       0.0    6176.734564    1383.986135       2.199277\n",
       "min          0.000000      31.0      26.000000       0.100000      -2.000000\n",
       "25%          7.000000      31.0    5612.000000     199.000000       1.000000\n",
       "50%         14.000000      31.0   11268.000000     374.250000       1.000000\n",
       "75%         23.000000      31.0   16205.000000     790.000000       1.000000\n",
       "max         33.000000      31.0   22167.000000   35991.000000     288.000000"
      ]
     },
     "execution_count": 47,
     "metadata": {},
     "output_type": "execute_result"
    }
   ],
   "source": [
    "# I want to take a deeper look at shop 31\n",
    "dfSales[dfSales['shop_id'] == 31].describe()\n",
    "# It looks like shop 31 just has high volume\n",
    "# The max item cnt per day is not huge\n",
    "# The mean and std is about the same as the general population\n",
    "# I did not do a t-test to verify that distribution was the same"
   ]
  },
  {
   "cell_type": "code",
   "execution_count": 53,
   "id": "8b2f05f5-f9f6-4b0a-aeb8-c396e90a870b",
   "metadata": {},
   "outputs": [
    {
     "data": {
      "text/html": [
       "<div>\n",
       "<style scoped>\n",
       "    .dataframe tbody tr th:only-of-type {\n",
       "        vertical-align: middle;\n",
       "    }\n",
       "\n",
       "    .dataframe tbody tr th {\n",
       "        vertical-align: top;\n",
       "    }\n",
       "\n",
       "    .dataframe thead th {\n",
       "        text-align: right;\n",
       "    }\n",
       "</style>\n",
       "<table border=\"1\" class=\"dataframe\">\n",
       "  <thead>\n",
       "    <tr style=\"text-align: right;\">\n",
       "      <th></th>\n",
       "      <th>date</th>\n",
       "      <th>date_block_num</th>\n",
       "      <th>shop_id</th>\n",
       "      <th>item_id</th>\n",
       "      <th>item_price</th>\n",
       "      <th>item_cnt_day</th>\n",
       "    </tr>\n",
       "  </thead>\n",
       "  <tbody>\n",
       "    <tr>\n",
       "      <th>1573253</th>\n",
       "      <td>22.04.2014</td>\n",
       "      <td>15</td>\n",
       "      <td>27</td>\n",
       "      <td>8057</td>\n",
       "      <td>1200.000000</td>\n",
       "      <td>502.0</td>\n",
       "    </tr>\n",
       "    <tr>\n",
       "      <th>1708207</th>\n",
       "      <td>28.06.2014</td>\n",
       "      <td>17</td>\n",
       "      <td>25</td>\n",
       "      <td>20949</td>\n",
       "      <td>5.000000</td>\n",
       "      <td>501.0</td>\n",
       "    </tr>\n",
       "    <tr>\n",
       "      <th>2048518</th>\n",
       "      <td>02.10.2014</td>\n",
       "      <td>21</td>\n",
       "      <td>12</td>\n",
       "      <td>9242</td>\n",
       "      <td>1500.000000</td>\n",
       "      <td>512.0</td>\n",
       "    </tr>\n",
       "    <tr>\n",
       "      <th>2067669</th>\n",
       "      <td>09.10.2014</td>\n",
       "      <td>21</td>\n",
       "      <td>55</td>\n",
       "      <td>19437</td>\n",
       "      <td>899.000000</td>\n",
       "      <td>508.0</td>\n",
       "    </tr>\n",
       "    <tr>\n",
       "      <th>2326930</th>\n",
       "      <td>15.01.2015</td>\n",
       "      <td>24</td>\n",
       "      <td>12</td>\n",
       "      <td>20949</td>\n",
       "      <td>4.000000</td>\n",
       "      <td>1000.0</td>\n",
       "    </tr>\n",
       "    <tr>\n",
       "      <th>2608040</th>\n",
       "      <td>14.04.2015</td>\n",
       "      <td>27</td>\n",
       "      <td>12</td>\n",
       "      <td>3731</td>\n",
       "      <td>1904.548077</td>\n",
       "      <td>624.0</td>\n",
       "    </tr>\n",
       "    <tr>\n",
       "      <th>2626181</th>\n",
       "      <td>19.05.2015</td>\n",
       "      <td>28</td>\n",
       "      <td>12</td>\n",
       "      <td>11373</td>\n",
       "      <td>155.192950</td>\n",
       "      <td>539.0</td>\n",
       "    </tr>\n",
       "    <tr>\n",
       "      <th>2851073</th>\n",
       "      <td>29.09.2015</td>\n",
       "      <td>32</td>\n",
       "      <td>55</td>\n",
       "      <td>9249</td>\n",
       "      <td>1500.000000</td>\n",
       "      <td>533.0</td>\n",
       "    </tr>\n",
       "    <tr>\n",
       "      <th>2851091</th>\n",
       "      <td>30.09.2015</td>\n",
       "      <td>32</td>\n",
       "      <td>55</td>\n",
       "      <td>9249</td>\n",
       "      <td>1702.825746</td>\n",
       "      <td>637.0</td>\n",
       "    </tr>\n",
       "    <tr>\n",
       "      <th>2864235</th>\n",
       "      <td>30.09.2015</td>\n",
       "      <td>32</td>\n",
       "      <td>12</td>\n",
       "      <td>9248</td>\n",
       "      <td>1692.526158</td>\n",
       "      <td>669.0</td>\n",
       "    </tr>\n",
       "    <tr>\n",
       "      <th>2864260</th>\n",
       "      <td>29.09.2015</td>\n",
       "      <td>32</td>\n",
       "      <td>12</td>\n",
       "      <td>9248</td>\n",
       "      <td>1500.000000</td>\n",
       "      <td>504.0</td>\n",
       "    </tr>\n",
       "    <tr>\n",
       "      <th>2909818</th>\n",
       "      <td>28.10.2015</td>\n",
       "      <td>33</td>\n",
       "      <td>12</td>\n",
       "      <td>11373</td>\n",
       "      <td>0.908714</td>\n",
       "      <td>2169.0</td>\n",
       "    </tr>\n",
       "  </tbody>\n",
       "</table>\n",
       "</div>"
      ],
      "text/plain": [
       "               date  date_block_num  shop_id  item_id   item_price  \\\n",
       "1573253  22.04.2014              15       27     8057  1200.000000   \n",
       "1708207  28.06.2014              17       25    20949     5.000000   \n",
       "2048518  02.10.2014              21       12     9242  1500.000000   \n",
       "2067669  09.10.2014              21       55    19437   899.000000   \n",
       "2326930  15.01.2015              24       12    20949     4.000000   \n",
       "2608040  14.04.2015              27       12     3731  1904.548077   \n",
       "2626181  19.05.2015              28       12    11373   155.192950   \n",
       "2851073  29.09.2015              32       55     9249  1500.000000   \n",
       "2851091  30.09.2015              32       55     9249  1702.825746   \n",
       "2864235  30.09.2015              32       12     9248  1692.526158   \n",
       "2864260  29.09.2015              32       12     9248  1500.000000   \n",
       "2909818  28.10.2015              33       12    11373     0.908714   \n",
       "\n",
       "         item_cnt_day  \n",
       "1573253         502.0  \n",
       "1708207         501.0  \n",
       "2048518         512.0  \n",
       "2067669         508.0  \n",
       "2326930        1000.0  \n",
       "2608040         624.0  \n",
       "2626181         539.0  \n",
       "2851073         533.0  \n",
       "2851091         637.0  \n",
       "2864235         669.0  \n",
       "2864260         504.0  \n",
       "2909818        2169.0  "
      ]
     },
     "metadata": {},
     "output_type": "display_data"
    }
   ],
   "source": [
    "# I will probably toss many of these high quanity items\n",
    "# but lets investigate a bit more\n",
    "display(dfSales[dfSales['item_cnt_day'] > 500])\n",
    "item_list = set(dfSales[dfSales['item_cnt_day'] > 500]['item_id'])"
   ]
  },
  {
   "cell_type": "code",
   "execution_count": 49,
   "id": "12d52358-c446-4a20-a472-1026872c8acb",
   "metadata": {},
   "outputs": [],
   "source": [
    "# I previously said I didn't want to look at item descriptions, \n",
    "# but I want to see what is going on with come off these high cost and high volume items\n",
    "dfItemDescription = pd.read_csv(\"../input/future-sales/items.csv\")"
   ]
  },
  {
   "cell_type": "code",
   "execution_count": 52,
   "id": "085055c9-8c51-4871-8e6e-c65b2d120ee2",
   "metadata": {},
   "outputs": [
    {
     "data": {
      "text/html": [
       "<div>\n",
       "<style scoped>\n",
       "    .dataframe tbody tr th:only-of-type {\n",
       "        vertical-align: middle;\n",
       "    }\n",
       "\n",
       "    .dataframe tbody tr th {\n",
       "        vertical-align: top;\n",
       "    }\n",
       "\n",
       "    .dataframe thead th {\n",
       "        text-align: right;\n",
       "    }\n",
       "</style>\n",
       "<table border=\"1\" class=\"dataframe\">\n",
       "  <thead>\n",
       "    <tr style=\"text-align: right;\">\n",
       "      <th></th>\n",
       "      <th>item_name</th>\n",
       "      <th>item_id</th>\n",
       "      <th>item_category_id</th>\n",
       "    </tr>\n",
       "  </thead>\n",
       "  <tbody>\n",
       "    <tr>\n",
       "      <th>3731</th>\n",
       "      <td>Grand Theft Auto V [PC, русские субтитры]</td>\n",
       "      <td>3731</td>\n",
       "      <td>30</td>\n",
       "    </tr>\n",
       "    <tr>\n",
       "      <th>8057</th>\n",
       "      <td>iTunes 1500 руб.</td>\n",
       "      <td>8057</td>\n",
       "      <td>32</td>\n",
       "    </tr>\n",
       "    <tr>\n",
       "      <th>9242</th>\n",
       "      <td>Билет \"ИгроМир 2014\" (на один день (отдельно -...</td>\n",
       "      <td>9242</td>\n",
       "      <td>8</td>\n",
       "    </tr>\n",
       "    <tr>\n",
       "      <th>9248</th>\n",
       "      <td>Билет \"ИгроМир 2015\" - 3 октября 2015 (сайт) [...</td>\n",
       "      <td>9248</td>\n",
       "      <td>80</td>\n",
       "    </tr>\n",
       "    <tr>\n",
       "      <th>9249</th>\n",
       "      <td>Билет \"ИгроМир 2015\" - 3 октября 2015 (сайт) У...</td>\n",
       "      <td>9249</td>\n",
       "      <td>8</td>\n",
       "    </tr>\n",
       "    <tr>\n",
       "      <th>11373</th>\n",
       "      <td>Доставка до пункта выдачи (Boxberry)</td>\n",
       "      <td>11373</td>\n",
       "      <td>9</td>\n",
       "    </tr>\n",
       "    <tr>\n",
       "      <th>19437</th>\n",
       "      <td>Средиземье: Тени Мордора [PC, Цифровая версия]</td>\n",
       "      <td>19437</td>\n",
       "      <td>31</td>\n",
       "    </tr>\n",
       "    <tr>\n",
       "      <th>20949</th>\n",
       "      <td>Фирменный пакет майка 1С Интерес белый (34*42)...</td>\n",
       "      <td>20949</td>\n",
       "      <td>71</td>\n",
       "    </tr>\n",
       "  </tbody>\n",
       "</table>\n",
       "</div>"
      ],
      "text/plain": [
       "                                               item_name  item_id  \\\n",
       "3731           Grand Theft Auto V [PC, русские субтитры]     3731   \n",
       "8057                                    iTunes 1500 руб.     8057   \n",
       "9242   Билет \"ИгроМир 2014\" (на один день (отдельно -...     9242   \n",
       "9248   Билет \"ИгроМир 2015\" - 3 октября 2015 (сайт) [...     9248   \n",
       "9249   Билет \"ИгроМир 2015\" - 3 октября 2015 (сайт) У...     9249   \n",
       "11373               Доставка до пункта выдачи (Boxberry)    11373   \n",
       "19437     Средиземье: Тени Мордора [PC, Цифровая версия]    19437   \n",
       "20949  Фирменный пакет майка 1С Интерес белый (34*42)...    20949   \n",
       "\n",
       "       item_category_id  \n",
       "3731                 30  \n",
       "8057                 32  \n",
       "9242                  8  \n",
       "9248                 80  \n",
       "9249                  8  \n",
       "11373                 9  \n",
       "19437                31  \n",
       "20949                71  "
      ]
     },
     "execution_count": 52,
     "metadata": {},
     "output_type": "execute_result"
    }
   ],
   "source": [
    "dfItemDescription[dfItemDescription['item_id'].isin(item_list)]"
   ]
  },
  {
   "cell_type": "markdown",
   "id": "a2fc701a-e8ef-421f-8d2e-b7c9ef911ad1",
   "metadata": {},
   "source": [
    "* In the above output, we can see some interesting trends such as GameWorld tickets being sold only on 2 days\n",
    "* Some of the other items may be due to game releases\n",
    "* For example Middle-earth: Shadows of Mordo was released in Russia on 3 Oct 2014. The spike for that product is on 9 Oct 2014\n",
    "* The purpose of this exercise is to predict trends\n",
    "* Major game releases happen but I would like to remove them for this analysis since predicting those trends is out of scope of this analysis"
   ]
  },
  {
   "cell_type": "code",
   "execution_count": 54,
   "id": "4f1250cc-3832-4d2b-8ab5-996d755c74b2",
   "metadata": {},
   "outputs": [
    {
     "data": {
      "text/html": [
       "<div>\n",
       "<style scoped>\n",
       "    .dataframe tbody tr th:only-of-type {\n",
       "        vertical-align: middle;\n",
       "    }\n",
       "\n",
       "    .dataframe tbody tr th {\n",
       "        vertical-align: top;\n",
       "    }\n",
       "\n",
       "    .dataframe thead th {\n",
       "        text-align: right;\n",
       "    }\n",
       "</style>\n",
       "<table border=\"1\" class=\"dataframe\">\n",
       "  <thead>\n",
       "    <tr style=\"text-align: right;\">\n",
       "      <th></th>\n",
       "      <th>item_name</th>\n",
       "      <th>item_id</th>\n",
       "      <th>item_category_id</th>\n",
       "    </tr>\n",
       "  </thead>\n",
       "  <tbody>\n",
       "    <tr>\n",
       "      <th>9240</th>\n",
       "      <td>Билет \"День Бухгалтерии\"</td>\n",
       "      <td>9240</td>\n",
       "      <td>73</td>\n",
       "    </tr>\n",
       "    <tr>\n",
       "      <th>9241</th>\n",
       "      <td>Билет \"ИгроМир 2014\" (на один день (отдельно -...</td>\n",
       "      <td>9241</td>\n",
       "      <td>8</td>\n",
       "    </tr>\n",
       "    <tr>\n",
       "      <th>9242</th>\n",
       "      <td>Билет \"ИгроМир 2014\" (на один день (отдельно -...</td>\n",
       "      <td>9242</td>\n",
       "      <td>8</td>\n",
       "    </tr>\n",
       "    <tr>\n",
       "      <th>9243</th>\n",
       "      <td>Билет \"ИгроМир 2014\" - семейный до 4-х человек...</td>\n",
       "      <td>9243</td>\n",
       "      <td>8</td>\n",
       "    </tr>\n",
       "    <tr>\n",
       "      <th>9244</th>\n",
       "      <td>Билет \"ИгроМир 2015\" - 2 октября 2015 (сайт) [...</td>\n",
       "      <td>9244</td>\n",
       "      <td>80</td>\n",
       "    </tr>\n",
       "    <tr>\n",
       "      <th>9245</th>\n",
       "      <td>Билет \"ИгроМир 2015\" - 2 октября 2015 (сайт) У...</td>\n",
       "      <td>9245</td>\n",
       "      <td>8</td>\n",
       "    </tr>\n",
       "    <tr>\n",
       "      <th>9246</th>\n",
       "      <td>Билет \"ИгроМир 2015\" - 2 октября 2015 [Цифрова...</td>\n",
       "      <td>9246</td>\n",
       "      <td>80</td>\n",
       "    </tr>\n",
       "    <tr>\n",
       "      <th>9247</th>\n",
       "      <td>Билет \"ИгроМир 2015\" - 2 октября 2015 УПР [Циф...</td>\n",
       "      <td>9247</td>\n",
       "      <td>8</td>\n",
       "    </tr>\n",
       "    <tr>\n",
       "      <th>9248</th>\n",
       "      <td>Билет \"ИгроМир 2015\" - 3 октября 2015 (сайт) [...</td>\n",
       "      <td>9248</td>\n",
       "      <td>80</td>\n",
       "    </tr>\n",
       "    <tr>\n",
       "      <th>9249</th>\n",
       "      <td>Билет \"ИгроМир 2015\" - 3 октября 2015 (сайт) У...</td>\n",
       "      <td>9249</td>\n",
       "      <td>8</td>\n",
       "    </tr>\n",
       "    <tr>\n",
       "      <th>9250</th>\n",
       "      <td>Билет \"ИгроМир 2015\" - 3 октября 2015 [Цифрова...</td>\n",
       "      <td>9250</td>\n",
       "      <td>80</td>\n",
       "    </tr>\n",
       "    <tr>\n",
       "      <th>9251</th>\n",
       "      <td>Билет \"ИгроМир 2015\" - 3 октября 2015 УПР [Циф...</td>\n",
       "      <td>9251</td>\n",
       "      <td>8</td>\n",
       "    </tr>\n",
       "    <tr>\n",
       "      <th>9252</th>\n",
       "      <td>Билет \"ИгроМир 2015\" - 4 октября 2015 (сайт) [...</td>\n",
       "      <td>9252</td>\n",
       "      <td>80</td>\n",
       "    </tr>\n",
       "    <tr>\n",
       "      <th>9253</th>\n",
       "      <td>Билет \"ИгроМир 2015\" - 4 октября 2015 (сайт) У...</td>\n",
       "      <td>9253</td>\n",
       "      <td>8</td>\n",
       "    </tr>\n",
       "    <tr>\n",
       "      <th>9254</th>\n",
       "      <td>Билет \"ИгроМир 2015\" - 4 октября 2015 [Цифрова...</td>\n",
       "      <td>9254</td>\n",
       "      <td>80</td>\n",
       "    </tr>\n",
       "    <tr>\n",
       "      <th>9255</th>\n",
       "      <td>Билет \"ИгроМир 2015\" - 4 октября 2015 УПР [Циф...</td>\n",
       "      <td>9255</td>\n",
       "      <td>8</td>\n",
       "    </tr>\n",
       "  </tbody>\n",
       "</table>\n",
       "</div>"
      ],
      "text/plain": [
       "                                              item_name  item_id  \\\n",
       "9240                           Билет \"День Бухгалтерии\"     9240   \n",
       "9241  Билет \"ИгроМир 2014\" (на один день (отдельно -...     9241   \n",
       "9242  Билет \"ИгроМир 2014\" (на один день (отдельно -...     9242   \n",
       "9243  Билет \"ИгроМир 2014\" - семейный до 4-х человек...     9243   \n",
       "9244  Билет \"ИгроМир 2015\" - 2 октября 2015 (сайт) [...     9244   \n",
       "9245  Билет \"ИгроМир 2015\" - 2 октября 2015 (сайт) У...     9245   \n",
       "9246  Билет \"ИгроМир 2015\" - 2 октября 2015 [Цифрова...     9246   \n",
       "9247  Билет \"ИгроМир 2015\" - 2 октября 2015 УПР [Циф...     9247   \n",
       "9248  Билет \"ИгроМир 2015\" - 3 октября 2015 (сайт) [...     9248   \n",
       "9249  Билет \"ИгроМир 2015\" - 3 октября 2015 (сайт) У...     9249   \n",
       "9250  Билет \"ИгроМир 2015\" - 3 октября 2015 [Цифрова...     9250   \n",
       "9251  Билет \"ИгроМир 2015\" - 3 октября 2015 УПР [Циф...     9251   \n",
       "9252  Билет \"ИгроМир 2015\" - 4 октября 2015 (сайт) [...     9252   \n",
       "9253  Билет \"ИгроМир 2015\" - 4 октября 2015 (сайт) У...     9253   \n",
       "9254  Билет \"ИгроМир 2015\" - 4 октября 2015 [Цифрова...     9254   \n",
       "9255  Билет \"ИгроМир 2015\" - 4 октября 2015 УПР [Циф...     9255   \n",
       "\n",
       "      item_category_id  \n",
       "9240                73  \n",
       "9241                 8  \n",
       "9242                 8  \n",
       "9243                 8  \n",
       "9244                80  \n",
       "9245                 8  \n",
       "9246                80  \n",
       "9247                 8  \n",
       "9248                80  \n",
       "9249                 8  \n",
       "9250                80  \n",
       "9251                 8  \n",
       "9252                80  \n",
       "9253                 8  \n",
       "9254                80  \n",
       "9255                 8  "
      ]
     },
     "execution_count": 54,
     "metadata": {},
     "output_type": "execute_result"
    }
   ],
   "source": [
    "# Look for other ticket sales\n",
    "dfItemDescription[dfItemDescription['item_name'].str.contains(\"Билет\")]"
   ]
  },
  {
   "cell_type": "code",
   "execution_count": 61,
   "id": "ebf510d0-ae50-45e1-9006-eac7f813e76a",
   "metadata": {},
   "outputs": [],
   "source": [
    "# Drop ticket sales \n",
    "# These seem to be in October and they may skew the Novemeber estimate to be too hight\n",
    "ticket_ids = set(dfItemDescription[dfItemDescription['item_name'].str.contains(\"Билет\")]['item_id'])\n",
    "dfSales.drop(dfSales[dfSales['item_id'].isin(ticket_ids)].index,inplace=True)\n",
    "dfSales.drop(dfSales[dfSales['item_id'].isin(item_list)].index,inplace=True)"
   ]
  },
  {
   "cell_type": "markdown",
   "id": "cf974a9c-ab81-4483-ab57-4195570390d4",
   "metadata": {},
   "source": [
    "### Data Transformation\n",
    "* We completed initial cleaning\n",
    "* Now we will transform the data to a frame that contains shop id and item id and sum for each month\n"
   ]
  },
  {
   "cell_type": "code",
   "execution_count": 116,
   "id": "db42d120-9852-4bc6-ae86-0f0025993505",
   "metadata": {},
   "outputs": [
    {
     "name": "stdout",
     "output_type": "stream",
     "text": [
      "I probably already did this\n"
     ]
    },
    {
     "data": {
      "text/html": [
       "<div>\n",
       "<style scoped>\n",
       "    .dataframe tbody tr th:only-of-type {\n",
       "        vertical-align: middle;\n",
       "    }\n",
       "\n",
       "    .dataframe tbody tr th {\n",
       "        vertical-align: top;\n",
       "    }\n",
       "\n",
       "    .dataframe thead th {\n",
       "        text-align: right;\n",
       "    }\n",
       "</style>\n",
       "<table border=\"1\" class=\"dataframe\">\n",
       "  <thead>\n",
       "    <tr style=\"text-align: right;\">\n",
       "      <th></th>\n",
       "      <th>date_block_num</th>\n",
       "      <th>shop_id</th>\n",
       "      <th>item_id</th>\n",
       "      <th>item_cnt_day</th>\n",
       "    </tr>\n",
       "  </thead>\n",
       "  <tbody>\n",
       "    <tr>\n",
       "      <th>0</th>\n",
       "      <td>0</td>\n",
       "      <td>0</td>\n",
       "      <td>32</td>\n",
       "      <td>6.0</td>\n",
       "    </tr>\n",
       "    <tr>\n",
       "      <th>1</th>\n",
       "      <td>0</td>\n",
       "      <td>0</td>\n",
       "      <td>33</td>\n",
       "      <td>3.0</td>\n",
       "    </tr>\n",
       "    <tr>\n",
       "      <th>2</th>\n",
       "      <td>0</td>\n",
       "      <td>0</td>\n",
       "      <td>35</td>\n",
       "      <td>1.0</td>\n",
       "    </tr>\n",
       "    <tr>\n",
       "      <th>3</th>\n",
       "      <td>0</td>\n",
       "      <td>0</td>\n",
       "      <td>43</td>\n",
       "      <td>1.0</td>\n",
       "    </tr>\n",
       "    <tr>\n",
       "      <th>4</th>\n",
       "      <td>0</td>\n",
       "      <td>0</td>\n",
       "      <td>51</td>\n",
       "      <td>2.0</td>\n",
       "    </tr>\n",
       "    <tr>\n",
       "      <th>...</th>\n",
       "      <td>...</td>\n",
       "      <td>...</td>\n",
       "      <td>...</td>\n",
       "      <td>...</td>\n",
       "    </tr>\n",
       "    <tr>\n",
       "      <th>1606703</th>\n",
       "      <td>33</td>\n",
       "      <td>59</td>\n",
       "      <td>22087</td>\n",
       "      <td>6.0</td>\n",
       "    </tr>\n",
       "    <tr>\n",
       "      <th>1606704</th>\n",
       "      <td>33</td>\n",
       "      <td>59</td>\n",
       "      <td>22088</td>\n",
       "      <td>2.0</td>\n",
       "    </tr>\n",
       "    <tr>\n",
       "      <th>1606705</th>\n",
       "      <td>33</td>\n",
       "      <td>59</td>\n",
       "      <td>22091</td>\n",
       "      <td>1.0</td>\n",
       "    </tr>\n",
       "    <tr>\n",
       "      <th>1606706</th>\n",
       "      <td>33</td>\n",
       "      <td>59</td>\n",
       "      <td>22100</td>\n",
       "      <td>1.0</td>\n",
       "    </tr>\n",
       "    <tr>\n",
       "      <th>1606707</th>\n",
       "      <td>33</td>\n",
       "      <td>59</td>\n",
       "      <td>22102</td>\n",
       "      <td>1.0</td>\n",
       "    </tr>\n",
       "  </tbody>\n",
       "</table>\n",
       "<p>1606708 rows × 4 columns</p>\n",
       "</div>"
      ],
      "text/plain": [
       "         date_block_num  shop_id  item_id  item_cnt_day\n",
       "0                     0        0       32           6.0\n",
       "1                     0        0       33           3.0\n",
       "2                     0        0       35           1.0\n",
       "3                     0        0       43           1.0\n",
       "4                     0        0       51           2.0\n",
       "...                 ...      ...      ...           ...\n",
       "1606703              33       59    22087           6.0\n",
       "1606704              33       59    22088           2.0\n",
       "1606705              33       59    22091           1.0\n",
       "1606706              33       59    22100           1.0\n",
       "1606707              33       59    22102           1.0\n",
       "\n",
       "[1606708 rows x 4 columns]"
      ]
     },
     "execution_count": 116,
     "metadata": {},
     "output_type": "execute_result"
    }
   ],
   "source": [
    "# I may be able to simplify this using a join\n",
    "# Drop price\n",
    "try:\n",
    "    dfSales.drop(['item_price'],axis=1,inplace=True)\n",
    "except:\n",
    "    print(\"I probably already did this\")\n",
    "dfShopItems = dfSales.groupby(by=['date_block_num', 'shop_id', 'item_id']).sum().reset_index()\n",
    "dfShopItems"
   ]
  },
  {
   "cell_type": "code",
   "execution_count": 128,
   "id": "1298dadf-fbda-49f1-aa60-f77971a4ae67",
   "metadata": {},
   "outputs": [
    {
     "data": {
      "image/png": "[encoded data removed]",
      "text/plain": [
       "<Figure size 432x288 with 1 Axes>"
      ]
     },
     "metadata": {
      "needs_background": "light"
     },
     "output_type": "display_data"
    }
   ],
   "source": [
    "### Visualization of general sales trends\n",
    "dfMonths = dfShopItems.groupby(by=['date_block_num'] ,as_index=False).sum()\n",
    "dfMonths.rename(columns={'item_cnt_day':'Total_Sales'},inplace=True)\n",
    "sns.lineplot(y=dfMonths['Total_Sales'],x=dfMonths['date_block_num'])\n",
    "plt.title(\"Evaluate Temporal Trends\");"
   ]
  },
  {
   "cell_type": "code",
   "execution_count": 130,
   "id": "9571ac76-7e61-42f7-9fae-f6d3f80afb70",
   "metadata": {},
   "outputs": [
    {
     "data": {
      "text/html": [
       "<div>\n",
       "<style scoped>\n",
       "    .dataframe tbody tr th:only-of-type {\n",
       "        vertical-align: middle;\n",
       "    }\n",
       "\n",
       "    .dataframe tbody tr th {\n",
       "        vertical-align: top;\n",
       "    }\n",
       "\n",
       "    .dataframe thead th {\n",
       "        text-align: right;\n",
       "    }\n",
       "</style>\n",
       "<table border=\"1\" class=\"dataframe\">\n",
       "  <thead>\n",
       "    <tr style=\"text-align: right;\">\n",
       "      <th></th>\n",
       "      <th>date</th>\n",
       "      <th>date_block_num</th>\n",
       "      <th>shop_id</th>\n",
       "      <th>item_id</th>\n",
       "      <th>item_cnt_day</th>\n",
       "    </tr>\n",
       "  </thead>\n",
       "  <tbody>\n",
       "    <tr>\n",
       "      <th>1124316</th>\n",
       "      <td>04.12.2013</td>\n",
       "      <td>11</td>\n",
       "      <td>25</td>\n",
       "      <td>17769</td>\n",
       "      <td>1.0</td>\n",
       "    </tr>\n",
       "  </tbody>\n",
       "</table>\n",
       "</div>"
      ],
      "text/plain": [
       "               date  date_block_num  shop_id  item_id  item_cnt_day\n",
       "1124316  04.12.2013              11       25    17769           1.0"
      ]
     },
     "execution_count": 130,
     "metadata": {},
     "output_type": "execute_result"
    }
   ],
   "source": [
    "# We see a spike at month 11 and 23. What are they\n",
    "dfSales[dfSales['date_block_num'] == 11].head(1)"
   ]
  },
  {
   "cell_type": "code",
   "execution_count": 131,
   "id": "02eb3aac-10c5-4fd0-b0ca-624c40bc9931",
   "metadata": {},
   "outputs": [
    {
     "data": {
      "text/html": [
       "<div>\n",
       "<style scoped>\n",
       "    .dataframe tbody tr th:only-of-type {\n",
       "        vertical-align: middle;\n",
       "    }\n",
       "\n",
       "    .dataframe tbody tr th {\n",
       "        vertical-align: top;\n",
       "    }\n",
       "\n",
       "    .dataframe thead th {\n",
       "        text-align: right;\n",
       "    }\n",
       "</style>\n",
       "<table border=\"1\" class=\"dataframe\">\n",
       "  <thead>\n",
       "    <tr style=\"text-align: right;\">\n",
       "      <th></th>\n",
       "      <th>date</th>\n",
       "      <th>date_block_num</th>\n",
       "      <th>shop_id</th>\n",
       "      <th>item_id</th>\n",
       "      <th>item_cnt_day</th>\n",
       "    </tr>\n",
       "  </thead>\n",
       "  <tbody>\n",
       "    <tr>\n",
       "      <th>2192637</th>\n",
       "      <td>24.12.2014</td>\n",
       "      <td>23</td>\n",
       "      <td>42</td>\n",
       "      <td>17279</td>\n",
       "      <td>1.0</td>\n",
       "    </tr>\n",
       "  </tbody>\n",
       "</table>\n",
       "</div>"
      ],
      "text/plain": [
       "               date  date_block_num  shop_id  item_id  item_cnt_day\n",
       "2192637  24.12.2014              23       42    17279           1.0"
      ]
     },
     "execution_count": 131,
     "metadata": {},
     "output_type": "execute_result"
    }
   ],
   "source": [
    "dfSales[dfSales['date_block_num'] == 23].head(1)"
   ]
  },
  {
   "cell_type": "code",
   "execution_count": 132,
   "id": "adf20407-e302-4ec7-b06f-9e618d5cffa6",
   "metadata": {},
   "outputs": [],
   "source": [
    "## Not a surprise that it is December"
   ]
  },
  {
   "cell_type": "code",
   "execution_count": 133,
   "id": "59204426-471f-4c5d-a1d4-935a704a027c",
   "metadata": {},
   "outputs": [],
   "source": [
    "# Now remove dfMonths to save memory\n",
    "dfMonths = None "
   ]
  },
  {
   "cell_type": "code",
   "execution_count": 93,
   "id": "009466ab-865e-4249-923e-4b25eb85f081",
   "metadata": {},
   "outputs": [],
   "source": [
    "# I want to fill in the holes, so I am making a data frame with crossproduct of date_block shop id and item_id\n",
    "# Then I will it with dfShopItems and fills the NaNs with 0\n",
    "dfTemp1 = pd.DataFrame(data=dfShopItems['date_block_num'].unique(),columns=[\"date_block_num\"])\n",
    "dfTemp2 = pd.DataFrame(data=dfShopItems['shop_id'].unique(),columns=[\"shop_id\"])\n",
    "dfTemp3 = pd.DataFrame(data=dfShopItems['item_id'].unique(),columns=[\"item_id\"])\n",
    "dfTemp4 = dfTemp1.merge(dfTemp2,how='cross')\n",
    "dfShopItemsFull = dfTemp4.merge(dfTemp3,how='cross')"
   ]
  },
  {
   "cell_type": "code",
   "execution_count": 94,
   "id": "3a717e84-0ea4-45fc-97d0-33edf2828728",
   "metadata": {},
   "outputs": [],
   "source": [
    "# Clear out my temp frames so I can save memory\n",
    "dfTemp1 = None\n",
    "dfTemp2 = None\n",
    "dfTemp3 = None\n",
    "dfTemp4 = None"
   ]
  },
  {
   "cell_type": "code",
   "execution_count": 97,
   "id": "362e629b-93c1-4c3f-ad99-a6c8407a1603",
   "metadata": {},
   "outputs": [
    {
     "data": {
      "text/html": [
       "<div>\n",
       "<style scoped>\n",
       "    .dataframe tbody tr th:only-of-type {\n",
       "        vertical-align: middle;\n",
       "    }\n",
       "\n",
       "    .dataframe tbody tr th {\n",
       "        vertical-align: top;\n",
       "    }\n",
       "\n",
       "    .dataframe thead th {\n",
       "        text-align: right;\n",
       "    }\n",
       "</style>\n",
       "<table border=\"1\" class=\"dataframe\">\n",
       "  <thead>\n",
       "    <tr style=\"text-align: right;\">\n",
       "      <th></th>\n",
       "      <th>date_block_num</th>\n",
       "      <th>shop_id</th>\n",
       "      <th>item_id</th>\n",
       "      <th>item_cnt_month</th>\n",
       "    </tr>\n",
       "  </thead>\n",
       "  <tbody>\n",
       "    <tr>\n",
       "      <th>44443435</th>\n",
       "      <td>33</td>\n",
       "      <td>36</td>\n",
       "      <td>12733</td>\n",
       "      <td>0</td>\n",
       "    </tr>\n",
       "    <tr>\n",
       "      <th>44443436</th>\n",
       "      <td>33</td>\n",
       "      <td>36</td>\n",
       "      <td>13092</td>\n",
       "      <td>0</td>\n",
       "    </tr>\n",
       "    <tr>\n",
       "      <th>44443437</th>\n",
       "      <td>33</td>\n",
       "      <td>36</td>\n",
       "      <td>16797</td>\n",
       "      <td>0</td>\n",
       "    </tr>\n",
       "    <tr>\n",
       "      <th>44443438</th>\n",
       "      <td>33</td>\n",
       "      <td>36</td>\n",
       "      <td>18060</td>\n",
       "      <td>0</td>\n",
       "    </tr>\n",
       "    <tr>\n",
       "      <th>44443439</th>\n",
       "      <td>33</td>\n",
       "      <td>36</td>\n",
       "      <td>15925</td>\n",
       "      <td>0</td>\n",
       "    </tr>\n",
       "  </tbody>\n",
       "</table>\n",
       "</div>"
      ],
      "text/plain": [
       "          date_block_num  shop_id  item_id  item_cnt_month\n",
       "44443435              33       36    12733               0\n",
       "44443436              33       36    13092               0\n",
       "44443437              33       36    16797               0\n",
       "44443438              33       36    18060               0\n",
       "44443439              33       36    15925               0"
      ]
     },
     "execution_count": 97,
     "metadata": {},
     "output_type": "execute_result"
    }
   ],
   "source": [
    "dfShopItemsFull['item_cnt_month'] = 0  \n",
    "dfShopItemsFull.tail()"
   ]
  },
  {
   "cell_type": "code",
   "execution_count": 101,
   "id": "8e040785-d282-49e7-b88e-433aa73f85b9",
   "metadata": {},
   "outputs": [
    {
     "data": {
      "text/html": [
       "<div>\n",
       "<style scoped>\n",
       "    .dataframe tbody tr th:only-of-type {\n",
       "        vertical-align: middle;\n",
       "    }\n",
       "\n",
       "    .dataframe tbody tr th {\n",
       "        vertical-align: top;\n",
       "    }\n",
       "\n",
       "    .dataframe thead th {\n",
       "        text-align: right;\n",
       "    }\n",
       "</style>\n",
       "<table border=\"1\" class=\"dataframe\">\n",
       "  <thead>\n",
       "    <tr style=\"text-align: right;\">\n",
       "      <th></th>\n",
       "      <th>date_block_num</th>\n",
       "      <th>shop_id</th>\n",
       "      <th>item_id</th>\n",
       "      <th>item_cnt_month</th>\n",
       "    </tr>\n",
       "  </thead>\n",
       "  <tbody>\n",
       "    <tr>\n",
       "      <th>21785</th>\n",
       "      <td>0</td>\n",
       "      <td>0</td>\n",
       "      <td>15925</td>\n",
       "      <td>0</td>\n",
       "    </tr>\n",
       "    <tr>\n",
       "      <th>43571</th>\n",
       "      <td>0</td>\n",
       "      <td>1</td>\n",
       "      <td>15925</td>\n",
       "      <td>0</td>\n",
       "    </tr>\n",
       "    <tr>\n",
       "      <th>65357</th>\n",
       "      <td>0</td>\n",
       "      <td>2</td>\n",
       "      <td>15925</td>\n",
       "      <td>0</td>\n",
       "    </tr>\n",
       "    <tr>\n",
       "      <th>87143</th>\n",
       "      <td>0</td>\n",
       "      <td>3</td>\n",
       "      <td>15925</td>\n",
       "      <td>0</td>\n",
       "    </tr>\n",
       "    <tr>\n",
       "      <th>108929</th>\n",
       "      <td>0</td>\n",
       "      <td>4</td>\n",
       "      <td>15925</td>\n",
       "      <td>0</td>\n",
       "    </tr>\n",
       "    <tr>\n",
       "      <th>...</th>\n",
       "      <td>...</td>\n",
       "      <td>...</td>\n",
       "      <td>...</td>\n",
       "      <td>...</td>\n",
       "    </tr>\n",
       "    <tr>\n",
       "      <th>44356295</th>\n",
       "      <td>33</td>\n",
       "      <td>34</td>\n",
       "      <td>15925</td>\n",
       "      <td>0</td>\n",
       "    </tr>\n",
       "    <tr>\n",
       "      <th>44378081</th>\n",
       "      <td>33</td>\n",
       "      <td>33</td>\n",
       "      <td>15925</td>\n",
       "      <td>0</td>\n",
       "    </tr>\n",
       "    <tr>\n",
       "      <th>44399867</th>\n",
       "      <td>33</td>\n",
       "      <td>20</td>\n",
       "      <td>15925</td>\n",
       "      <td>0</td>\n",
       "    </tr>\n",
       "    <tr>\n",
       "      <th>44421653</th>\n",
       "      <td>33</td>\n",
       "      <td>11</td>\n",
       "      <td>15925</td>\n",
       "      <td>0</td>\n",
       "    </tr>\n",
       "    <tr>\n",
       "      <th>44443439</th>\n",
       "      <td>33</td>\n",
       "      <td>36</td>\n",
       "      <td>15925</td>\n",
       "      <td>0</td>\n",
       "    </tr>\n",
       "  </tbody>\n",
       "</table>\n",
       "<p>2040 rows × 4 columns</p>\n",
       "</div>"
      ],
      "text/plain": [
       "          date_block_num  shop_id  item_id  item_cnt_month\n",
       "21785                  0        0    15925               0\n",
       "43571                  0        1    15925               0\n",
       "65357                  0        2    15925               0\n",
       "87143                  0        3    15925               0\n",
       "108929                 0        4    15925               0\n",
       "...                  ...      ...      ...             ...\n",
       "44356295              33       34    15925               0\n",
       "44378081              33       33    15925               0\n",
       "44399867              33       20    15925               0\n",
       "44421653              33       11    15925               0\n",
       "44443439              33       36    15925               0\n",
       "\n",
       "[2040 rows x 4 columns]"
      ]
     },
     "execution_count": 101,
     "metadata": {},
     "output_type": "execute_result"
    }
   ],
   "source": [
    "# Spot checking to make sure it is expanding as expected\n",
    "dfShopItemsFull[dfShopItemsFull['item_id'] == 15925]"
   ]
  },
  {
   "cell_type": "code",
   "execution_count": 103,
   "id": "6369815b-e449-4839-a02c-87adb776b452",
   "metadata": {},
   "outputs": [],
   "source": [
    "# Align the indexes\n",
    "dfShopItemsFull = dfShopItemsFull.set_index(['date_block_num','shop_id','item_id'])\n",
    "dfShopItems = dfShopItems.set_index(['date_block_num','shop_id','item_id'])"
   ]
  },
  {
   "cell_type": "code",
   "execution_count": 105,
   "id": "f8310a14-19c6-4590-8505-735b1bb5e808",
   "metadata": {},
   "outputs": [],
   "source": [
    "dfShopItemsFull['item_cnt_month'] = dfShopItems['item_cnt_day'] "
   ]
  },
  {
   "cell_type": "code",
   "execution_count": 106,
   "id": "6334b070-b150-4254-8f2a-5afbe08ea278",
   "metadata": {},
   "outputs": [
    {
     "data": {
      "text/html": [
       "<div>\n",
       "<style scoped>\n",
       "    .dataframe tbody tr th:only-of-type {\n",
       "        vertical-align: middle;\n",
       "    }\n",
       "\n",
       "    .dataframe tbody tr th {\n",
       "        vertical-align: top;\n",
       "    }\n",
       "\n",
       "    .dataframe thead th {\n",
       "        text-align: right;\n",
       "    }\n",
       "</style>\n",
       "<table border=\"1\" class=\"dataframe\">\n",
       "  <thead>\n",
       "    <tr style=\"text-align: right;\">\n",
       "      <th></th>\n",
       "      <th></th>\n",
       "      <th></th>\n",
       "      <th>item_cnt_month</th>\n",
       "    </tr>\n",
       "    <tr>\n",
       "      <th>date_block_num</th>\n",
       "      <th>shop_id</th>\n",
       "      <th>item_id</th>\n",
       "      <th></th>\n",
       "    </tr>\n",
       "  </thead>\n",
       "  <tbody>\n",
       "    <tr>\n",
       "      <th rowspan=\"5\" valign=\"top\">0</th>\n",
       "      <th rowspan=\"5\" valign=\"top\">0</th>\n",
       "      <th>32</th>\n",
       "      <td>6.0</td>\n",
       "    </tr>\n",
       "    <tr>\n",
       "      <th>33</th>\n",
       "      <td>3.0</td>\n",
       "    </tr>\n",
       "    <tr>\n",
       "      <th>35</th>\n",
       "      <td>1.0</td>\n",
       "    </tr>\n",
       "    <tr>\n",
       "      <th>43</th>\n",
       "      <td>1.0</td>\n",
       "    </tr>\n",
       "    <tr>\n",
       "      <th>51</th>\n",
       "      <td>2.0</td>\n",
       "    </tr>\n",
       "    <tr>\n",
       "      <th>...</th>\n",
       "      <th>...</th>\n",
       "      <th>...</th>\n",
       "      <td>...</td>\n",
       "    </tr>\n",
       "    <tr>\n",
       "      <th rowspan=\"5\" valign=\"top\">33</th>\n",
       "      <th rowspan=\"5\" valign=\"top\">36</th>\n",
       "      <th>12733</th>\n",
       "      <td>NaN</td>\n",
       "    </tr>\n",
       "    <tr>\n",
       "      <th>13092</th>\n",
       "      <td>NaN</td>\n",
       "    </tr>\n",
       "    <tr>\n",
       "      <th>16797</th>\n",
       "      <td>NaN</td>\n",
       "    </tr>\n",
       "    <tr>\n",
       "      <th>18060</th>\n",
       "      <td>NaN</td>\n",
       "    </tr>\n",
       "    <tr>\n",
       "      <th>15925</th>\n",
       "      <td>NaN</td>\n",
       "    </tr>\n",
       "  </tbody>\n",
       "</table>\n",
       "<p>44443440 rows × 1 columns</p>\n",
       "</div>"
      ],
      "text/plain": [
       "                                item_cnt_month\n",
       "date_block_num shop_id item_id                \n",
       "0              0       32                  6.0\n",
       "                       33                  3.0\n",
       "                       35                  1.0\n",
       "                       43                  1.0\n",
       "                       51                  2.0\n",
       "...                                        ...\n",
       "33             36      12733               NaN\n",
       "                       13092               NaN\n",
       "                       16797               NaN\n",
       "                       18060               NaN\n",
       "                       15925               NaN\n",
       "\n",
       "[44443440 rows x 1 columns]"
      ]
     },
     "execution_count": 106,
     "metadata": {},
     "output_type": "execute_result"
    }
   ],
   "source": [
    "dfShopItemsFull \n",
    "# We can see just in this view that there are NaNs"
   ]
  },
  {
   "cell_type": "code",
   "execution_count": 110,
   "id": "5e219b8f-7bc7-4199-a4f9-1ff2cbb11568",
   "metadata": {},
   "outputs": [],
   "source": [
    "dfShopItemsFull.fillna(0,inplace=True) # This filled the holes \n",
    "# Change the index back so it is easier to deal with\n",
    "# I am also going to remove the initial dataframe to save memory\n",
    "dfShopItemsFull.reset_index(inplace=True)\n",
    "dfShopItems = None"
   ]
  },
  {
   "cell_type": "code",
   "execution_count": 111,
   "id": "76675d35-b6cb-460b-96a3-fcb3779491af",
   "metadata": {},
   "outputs": [],
   "source": [
    "# Save off data frame so I can start a new notebook with data in this format\n",
    "dfShopItemsFull.to_csv(\"dfShopItemsFull.csv\",index=False)"
   ]
  },
  {
   "cell_type": "markdown",
   "id": "3041d21a-8725-49f3-a3ac-ae07ce214af9",
   "metadata": {},
   "source": [
    "## This concludes the intial EDA\n",
    "##### I will attempt to append the other notebooks in a single PDF\n",
    "* During the EDA process, I looked at the structure of the data \n",
    "* I dropped some data that were outliers\n",
    "* I reformatted the data into a matrix with approximately 44 million records\n",
    "* This allowed me to see every combination of shop, item, and month in the training data\n",
    "* During the testing phase I discovered that there are items in the test data that are not in the training data at all\n",
    "* This made me realize the importance of the item_category and item CSV files\n",
    "* These files have categories of items such as book, video, music, game, ticket\n",
    "* The existing category on their own is not enough\n",
    "* We also need to create additional categories using natural language processing\n",
    "* The data is in Russian, but we don't need to speak Russian to use many NLP processes\n",
    "   * We can use a Russian stop words dictionary and then general statistical methods\n"
   ]
  }
 ],
 "metadata": {
  "kernelspec": {
   "display_name": "Python 3 (ipykernel)",
   "language": "python",
   "name": "python3"
  },
  "language_info": {
   "codemirror_mode": {
    "name": "ipython",
    "version": 3
   },
   "file_extension": ".py",
   "mimetype": "text/x-python",
   "name": "python",
   "nbconvert_exporter": "python",
   "pygments_lexer": "ipython3",
   "version": "3.7.12"
  }
 },
 "nbformat": 4,
 "nbformat_minor": 5
}
