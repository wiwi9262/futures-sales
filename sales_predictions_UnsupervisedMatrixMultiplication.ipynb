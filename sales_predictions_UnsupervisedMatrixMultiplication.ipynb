{
 "cells": [
  {
   "cell_type": "markdown",
   "id": "15872b6b-0ed4-4657-8aa3-bbfaedb50cb0",
   "metadata": {},
   "source": [
    "# Sales Predictions using Time Series Data\n",
    "* https://www.kaggle.com/competitions/competitive-data-science-predict-future-sales/data"
   ]
  },
  {
   "cell_type": "markdown",
   "id": "20f61c67-d245-4bca-875e-c9739fd17c23",
   "metadata": {},
   "source": [
    "## Overview of Problem"
   ]
  },
  {
   "cell_type": "markdown",
   "id": "c140e665-78f2-4bf7-87c0-10e4be3206c8",
   "metadata": {},
   "source": [
    "\"You are provided with daily historical sales data. The task is to forecast the total amount of products sold in every shop for the test set. Note that the list of shops and products slightly changes every month. Creating a robust model that can handle such situations is part of the challenge.\" *(src: competition page)*"
   ]
  },
  {
   "cell_type": "markdown",
   "id": "411fa503-03fd-4b42-90c7-a74a5f6ec8bc",
   "metadata": {},
   "source": [
    "## Imports"
   ]
  },
  {
   "cell_type": "code",
   "execution_count": 45,
   "id": "7d230b37-d476-49a4-8d0b-e96591e8c34a",
   "metadata": {},
   "outputs": [],
   "source": [
    "import numpy as np \n",
    "import pandas as pd\n",
    "from sklearn.metrics import mean_squared_error\n",
    "from sklearn.decomposition import NMF"
   ]
  },
  {
   "cell_type": "markdown",
   "id": "7c1ec3ef-bb38-46c8-a3f2-4e73f64238dc",
   "metadata": {},
   "source": [
    "## Load Data \n",
    "* The data provided from the Kaggle competition was edited and saved\n",
    "* This notebook will load the updated file and continue from there"
   ]
  },
  {
   "cell_type": "code",
   "execution_count": 2,
   "id": "994bf164-0d05-468a-bbd7-f408be5696e2",
   "metadata": {},
   "outputs": [],
   "source": [
    "# Load the data"
   ]
  },
  {
   "cell_type": "code",
   "execution_count": 3,
   "id": "1e13200c-4369-47f6-b028-6b452543c7c2",
   "metadata": {},
   "outputs": [],
   "source": [
    "dfSales = pd.read_csv(\"dfShopItemsFull.csv\")"
   ]
  },
  {
   "cell_type": "code",
   "execution_count": 4,
   "id": "7785c00e-81f1-497f-af86-7d88374f6385",
   "metadata": {},
   "outputs": [
    {
     "name": "stdout",
     "output_type": "stream",
     "text": [
      "<class 'pandas.core.frame.DataFrame'>\n",
      "RangeIndex: 44443440 entries, 0 to 44443439\n",
      "Data columns (total 4 columns):\n",
      " #   Column          Dtype  \n",
      "---  ------          -----  \n",
      " 0   date_block_num  int64  \n",
      " 1   shop_id         int64  \n",
      " 2   item_id         int64  \n",
      " 3   item_cnt_month  float64\n",
      "dtypes: float64(1), int64(3)\n",
      "memory usage: 1.3 GB\n"
     ]
    }
   ],
   "source": [
    "# Quick Stats on the data\n",
    "dfSales.info()"
   ]
  },
  {
   "cell_type": "code",
   "execution_count": 5,
   "id": "4d4c7536-d35f-43c8-afee-329fcdb66149",
   "metadata": {},
   "outputs": [
    {
     "data": {
      "text/plain": [
       "date_block_num    0\n",
       "shop_id           0\n",
       "item_id           0\n",
       "item_cnt_month    0\n",
       "dtype: int64"
      ]
     },
     "execution_count": 5,
     "metadata": {},
     "output_type": "execute_result"
    }
   ],
   "source": [
    "dfSales.isnull().sum()"
   ]
  },
  {
   "cell_type": "code",
   "execution_count": 6,
   "id": "10441817-b1c2-4f35-8ef5-da085b299700",
   "metadata": {},
   "outputs": [
    {
     "data": {
      "text/html": [
       "<div>\n",
       "<style scoped>\n",
       "    .dataframe tbody tr th:only-of-type {\n",
       "        vertical-align: middle;\n",
       "    }\n",
       "\n",
       "    .dataframe tbody tr th {\n",
       "        vertical-align: top;\n",
       "    }\n",
       "\n",
       "    .dataframe thead th {\n",
       "        text-align: right;\n",
       "    }\n",
       "</style>\n",
       "<table border=\"1\" class=\"dataframe\">\n",
       "  <thead>\n",
       "    <tr style=\"text-align: right;\">\n",
       "      <th></th>\n",
       "      <th>date_block_num</th>\n",
       "      <th>shop_id</th>\n",
       "      <th>item_id</th>\n",
       "      <th>item_cnt_month</th>\n",
       "    </tr>\n",
       "  </thead>\n",
       "  <tbody>\n",
       "    <tr>\n",
       "      <th>0</th>\n",
       "      <td>0</td>\n",
       "      <td>0</td>\n",
       "      <td>32</td>\n",
       "      <td>6.0</td>\n",
       "    </tr>\n",
       "    <tr>\n",
       "      <th>1</th>\n",
       "      <td>0</td>\n",
       "      <td>0</td>\n",
       "      <td>33</td>\n",
       "      <td>3.0</td>\n",
       "    </tr>\n",
       "    <tr>\n",
       "      <th>2</th>\n",
       "      <td>0</td>\n",
       "      <td>0</td>\n",
       "      <td>35</td>\n",
       "      <td>1.0</td>\n",
       "    </tr>\n",
       "    <tr>\n",
       "      <th>3</th>\n",
       "      <td>0</td>\n",
       "      <td>0</td>\n",
       "      <td>43</td>\n",
       "      <td>1.0</td>\n",
       "    </tr>\n",
       "    <tr>\n",
       "      <th>4</th>\n",
       "      <td>0</td>\n",
       "      <td>0</td>\n",
       "      <td>51</td>\n",
       "      <td>2.0</td>\n",
       "    </tr>\n",
       "  </tbody>\n",
       "</table>\n",
       "</div>"
      ],
      "text/plain": [
       "   date_block_num  shop_id  item_id  item_cnt_month\n",
       "0               0        0       32             6.0\n",
       "1               0        0       33             3.0\n",
       "2               0        0       35             1.0\n",
       "3               0        0       43             1.0\n",
       "4               0        0       51             2.0"
      ]
     },
     "execution_count": 6,
     "metadata": {},
     "output_type": "execute_result"
    }
   ],
   "source": [
    "dfSales.head()"
   ]
  },
  {
   "cell_type": "markdown",
   "id": "d6aac155-2d4d-4c9d-a413-baf3b57c12f1",
   "metadata": {},
   "source": [
    "### Matrix Factorization\n",
    "* The idea in the matrix multiplication model is to use the matrix we created in the EDA notebook and factor it\n",
    "* This will help us find latent factors that we can use to predict missing data"
   ]
  },
  {
   "cell_type": "code",
   "execution_count": 8,
   "id": "5ca0bc69-22f9-4aa3-a1dc-ad8b8aff64a7",
   "metadata": {},
   "outputs": [],
   "source": [
    "dfTrain = dfSales.copy() # Make a copy that we will mess up\n",
    "month_size = dfTrain[dfTrain['date_block_num'].astype(int)==1].shape[0]\n",
    "\n",
    "trainy = dfTrain.iloc[month_size:,:]['item_cnt_month'].reset_index().drop(['index'],axis=1)"
   ]
  },
  {
   "cell_type": "code",
   "execution_count": 10,
   "id": "f5c513a7-d8fd-4181-9406-f07d2ac3993d",
   "metadata": {},
   "outputs": [],
   "source": [
    "dfTrain['next_month'] = trainy"
   ]
  },
  {
   "cell_type": "code",
   "execution_count": 13,
   "id": "9a0b5738-acd0-486f-8060-931490c4d28c",
   "metadata": {},
   "outputs": [],
   "source": [
    "dfTrain = dfTrain.fillna(0)"
   ]
  },
  {
   "cell_type": "code",
   "execution_count": 14,
   "id": "59c1548d-ec46-4abb-ba4e-18547a125e65",
   "metadata": {},
   "outputs": [],
   "source": [
    "# If I dont have enough memory, I will just change dfSales\n",
    "dfTest = dfSales[dfSales['date_block_num'] == 33]"
   ]
  },
  {
   "cell_type": "code",
   "execution_count": 8,
   "id": "97e1b109-0d4d-4567-9c2e-0b8bbf024e96",
   "metadata": {},
   "outputs": [],
   "source": [
    "# Zero out the values for the last month and see what happens\n",
    "#dfTrain.loc[dfSales['date_block_num'] == 33,'item_cnt_month'] = 0"
   ]
  },
  {
   "cell_type": "code",
   "execution_count": 15,
   "id": "6dcc99ff-821b-47d4-9806-5bb2da17765e",
   "metadata": {},
   "outputs": [
    {
     "data": {
      "text/html": [
       "<div>\n",
       "<style scoped>\n",
       "    .dataframe tbody tr th:only-of-type {\n",
       "        vertical-align: middle;\n",
       "    }\n",
       "\n",
       "    .dataframe tbody tr th {\n",
       "        vertical-align: top;\n",
       "    }\n",
       "\n",
       "    .dataframe thead th {\n",
       "        text-align: right;\n",
       "    }\n",
       "</style>\n",
       "<table border=\"1\" class=\"dataframe\">\n",
       "  <thead>\n",
       "    <tr style=\"text-align: right;\">\n",
       "      <th></th>\n",
       "      <th>date_block_num</th>\n",
       "      <th>shop_id</th>\n",
       "      <th>item_id</th>\n",
       "      <th>item_cnt_month</th>\n",
       "    </tr>\n",
       "  </thead>\n",
       "  <tbody>\n",
       "    <tr>\n",
       "      <th>43136280</th>\n",
       "      <td>33</td>\n",
       "      <td>0</td>\n",
       "      <td>32</td>\n",
       "      <td>0.0</td>\n",
       "    </tr>\n",
       "    <tr>\n",
       "      <th>43136281</th>\n",
       "      <td>33</td>\n",
       "      <td>0</td>\n",
       "      <td>33</td>\n",
       "      <td>0.0</td>\n",
       "    </tr>\n",
       "    <tr>\n",
       "      <th>43136282</th>\n",
       "      <td>33</td>\n",
       "      <td>0</td>\n",
       "      <td>35</td>\n",
       "      <td>0.0</td>\n",
       "    </tr>\n",
       "    <tr>\n",
       "      <th>43136283</th>\n",
       "      <td>33</td>\n",
       "      <td>0</td>\n",
       "      <td>43</td>\n",
       "      <td>0.0</td>\n",
       "    </tr>\n",
       "    <tr>\n",
       "      <th>43136284</th>\n",
       "      <td>33</td>\n",
       "      <td>0</td>\n",
       "      <td>51</td>\n",
       "      <td>0.0</td>\n",
       "    </tr>\n",
       "    <tr>\n",
       "      <th>...</th>\n",
       "      <td>...</td>\n",
       "      <td>...</td>\n",
       "      <td>...</td>\n",
       "      <td>...</td>\n",
       "    </tr>\n",
       "    <tr>\n",
       "      <th>44443435</th>\n",
       "      <td>33</td>\n",
       "      <td>36</td>\n",
       "      <td>12733</td>\n",
       "      <td>0.0</td>\n",
       "    </tr>\n",
       "    <tr>\n",
       "      <th>44443436</th>\n",
       "      <td>33</td>\n",
       "      <td>36</td>\n",
       "      <td>13092</td>\n",
       "      <td>0.0</td>\n",
       "    </tr>\n",
       "    <tr>\n",
       "      <th>44443437</th>\n",
       "      <td>33</td>\n",
       "      <td>36</td>\n",
       "      <td>16797</td>\n",
       "      <td>0.0</td>\n",
       "    </tr>\n",
       "    <tr>\n",
       "      <th>44443438</th>\n",
       "      <td>33</td>\n",
       "      <td>36</td>\n",
       "      <td>18060</td>\n",
       "      <td>0.0</td>\n",
       "    </tr>\n",
       "    <tr>\n",
       "      <th>44443439</th>\n",
       "      <td>33</td>\n",
       "      <td>36</td>\n",
       "      <td>15925</td>\n",
       "      <td>0.0</td>\n",
       "    </tr>\n",
       "  </tbody>\n",
       "</table>\n",
       "<p>1307160 rows × 4 columns</p>\n",
       "</div>"
      ],
      "text/plain": [
       "          date_block_num  shop_id  item_id  item_cnt_month\n",
       "43136280              33        0       32             0.0\n",
       "43136281              33        0       33             0.0\n",
       "43136282              33        0       35             0.0\n",
       "43136283              33        0       43             0.0\n",
       "43136284              33        0       51             0.0\n",
       "...                  ...      ...      ...             ...\n",
       "44443435              33       36    12733             0.0\n",
       "44443436              33       36    13092             0.0\n",
       "44443437              33       36    16797             0.0\n",
       "44443438              33       36    18060             0.0\n",
       "44443439              33       36    15925             0.0\n",
       "\n",
       "[1307160 rows x 4 columns]"
      ]
     },
     "execution_count": 15,
     "metadata": {},
     "output_type": "execute_result"
    }
   ],
   "source": [
    "dfTest"
   ]
  },
  {
   "cell_type": "code",
   "execution_count": 16,
   "id": "0ef09743-1c71-44ea-bfd5-d3d2ada7c772",
   "metadata": {},
   "outputs": [
    {
     "data": {
      "text/html": [
       "<div>\n",
       "<style scoped>\n",
       "    .dataframe tbody tr th:only-of-type {\n",
       "        vertical-align: middle;\n",
       "    }\n",
       "\n",
       "    .dataframe tbody tr th {\n",
       "        vertical-align: top;\n",
       "    }\n",
       "\n",
       "    .dataframe thead th {\n",
       "        text-align: right;\n",
       "    }\n",
       "</style>\n",
       "<table border=\"1\" class=\"dataframe\">\n",
       "  <thead>\n",
       "    <tr style=\"text-align: right;\">\n",
       "      <th></th>\n",
       "      <th>date_block_num</th>\n",
       "      <th>shop_id</th>\n",
       "      <th>item_id</th>\n",
       "      <th>item_cnt_month</th>\n",
       "      <th>next_month</th>\n",
       "    </tr>\n",
       "  </thead>\n",
       "  <tbody>\n",
       "    <tr>\n",
       "      <th>count</th>\n",
       "      <td>912.000000</td>\n",
       "      <td>912.000000</td>\n",
       "      <td>912.000000</td>\n",
       "      <td>912.000000</td>\n",
       "      <td>912.000000</td>\n",
       "    </tr>\n",
       "    <tr>\n",
       "      <th>mean</th>\n",
       "      <td>14.121711</td>\n",
       "      <td>28.736842</td>\n",
       "      <td>9752.044956</td>\n",
       "      <td>-1.081140</td>\n",
       "      <td>0.383772</td>\n",
       "    </tr>\n",
       "    <tr>\n",
       "      <th>std</th>\n",
       "      <td>9.364640</td>\n",
       "      <td>17.095870</td>\n",
       "      <td>6235.720134</td>\n",
       "      <td>0.853736</td>\n",
       "      <td>0.955474</td>\n",
       "    </tr>\n",
       "    <tr>\n",
       "      <th>min</th>\n",
       "      <td>0.000000</td>\n",
       "      <td>2.000000</td>\n",
       "      <td>31.000000</td>\n",
       "      <td>-22.000000</td>\n",
       "      <td>-2.000000</td>\n",
       "    </tr>\n",
       "    <tr>\n",
       "      <th>25%</th>\n",
       "      <td>6.000000</td>\n",
       "      <td>12.000000</td>\n",
       "      <td>4351.750000</td>\n",
       "      <td>-1.000000</td>\n",
       "      <td>0.000000</td>\n",
       "    </tr>\n",
       "    <tr>\n",
       "      <th>50%</th>\n",
       "      <td>13.000000</td>\n",
       "      <td>27.000000</td>\n",
       "      <td>8106.500000</td>\n",
       "      <td>-1.000000</td>\n",
       "      <td>0.000000</td>\n",
       "    </tr>\n",
       "    <tr>\n",
       "      <th>75%</th>\n",
       "      <td>22.000000</td>\n",
       "      <td>44.000000</td>\n",
       "      <td>14503.250000</td>\n",
       "      <td>-1.000000</td>\n",
       "      <td>0.000000</td>\n",
       "    </tr>\n",
       "    <tr>\n",
       "      <th>max</th>\n",
       "      <td>33.000000</td>\n",
       "      <td>59.000000</td>\n",
       "      <td>22164.000000</td>\n",
       "      <td>-1.000000</td>\n",
       "      <td>9.000000</td>\n",
       "    </tr>\n",
       "  </tbody>\n",
       "</table>\n",
       "</div>"
      ],
      "text/plain": [
       "       date_block_num     shop_id       item_id  item_cnt_month  next_month\n",
       "count      912.000000  912.000000    912.000000      912.000000  912.000000\n",
       "mean        14.121711   28.736842   9752.044956       -1.081140    0.383772\n",
       "std          9.364640   17.095870   6235.720134        0.853736    0.955474\n",
       "min          0.000000    2.000000     31.000000      -22.000000   -2.000000\n",
       "25%          6.000000   12.000000   4351.750000       -1.000000    0.000000\n",
       "50%         13.000000   27.000000   8106.500000       -1.000000    0.000000\n",
       "75%         22.000000   44.000000  14503.250000       -1.000000    0.000000\n",
       "max         33.000000   59.000000  22164.000000       -1.000000    9.000000"
      ]
     },
     "execution_count": 16,
     "metadata": {},
     "output_type": "execute_result"
    }
   ],
   "source": [
    "# There are negative values for some months. \n",
    "# How should we handle this\n",
    "dfTrain[dfTrain['item_cnt_month'] < 0].describe()"
   ]
  },
  {
   "cell_type": "code",
   "execution_count": 21,
   "id": "1d79464a-f607-4108-847b-2746b4032b57",
   "metadata": {},
   "outputs": [],
   "source": [
    "# I assume it will be negative if there are returns.\n",
    "# We could just right shift by the min, but I think it is ok to just 0 these out\n",
    "dfTrain.loc[dfTrain['item_cnt_month'] < 0, 'item_cnt_month'] = 0\n",
    "dfTrain.loc[dfTrain['next_month'] < 0, 'next_month'] = 0"
   ]
  },
  {
   "cell_type": "code",
   "execution_count": 23,
   "id": "bb76f2a8-e0c0-4796-9e64-d1fbf0dc2e66",
   "metadata": {},
   "outputs": [],
   "source": [
    "model_NMF = NMF(n_components=4,max_iter=700,init='nndsvda') # Basic model before tweaking\n",
    "nmf_fit = model_NMF.fit_transform(dfTrain)"
   ]
  },
  {
   "cell_type": "code",
   "execution_count": 24,
   "id": "672a5bc9-49bb-4382-aef3-c1774531b09f",
   "metadata": {},
   "outputs": [
    {
     "data": {
      "text/plain": [
       "array([[0.00000000e+00, 0.00000000e+00, 0.00000000e+00, 4.82200147e-03],\n",
       "       [1.11424001e-05, 9.13996588e-08, 0.00000000e+00, 4.95702248e-03],\n",
       "       [0.00000000e+00, 0.00000000e+00, 0.00000000e+00, 5.27406353e-03],\n",
       "       ...,\n",
       "       [7.41809603e-03, 8.99911858e-06, 0.00000000e+00, 2.52070295e+00],\n",
       "       [8.52856697e-03, 7.12171543e-06, 0.00000000e+00, 2.70946389e+00],\n",
       "       [6.65140509e-03, 1.02953146e-05, 0.00000000e+00, 2.39037870e+00]])"
      ]
     },
     "execution_count": 24,
     "metadata": {},
     "output_type": "execute_result"
    }
   ],
   "source": [
    "nmf_fit\n"
   ]
  },
  {
   "cell_type": "code",
   "execution_count": 25,
   "id": "47043cb8-3cc3-4357-b412-777bd7432e63",
   "metadata": {},
   "outputs": [],
   "source": [
    "C = model_NMF.components_\n",
    "R_estimated = np.dot(nmf_fit, C)"
   ]
  },
  {
   "cell_type": "code",
   "execution_count": 30,
   "id": "58ac6d8c-2f4c-4b83-83b3-01119b8f6852",
   "metadata": {},
   "outputs": [
    {
     "data": {
      "text/plain": [
       "(44443440, 5)"
      ]
     },
     "execution_count": 30,
     "metadata": {},
     "output_type": "execute_result"
    }
   ],
   "source": [
    "dfTrain.shape"
   ]
  },
  {
   "cell_type": "code",
   "execution_count": 38,
   "id": "35d13c30-0d00-4f98-810b-04ae8225e28b",
   "metadata": {},
   "outputs": [],
   "source": [
    "y_hat = R_estimated[:,4].astype(int)"
   ]
  },
  {
   "cell_type": "code",
   "execution_count": 39,
   "id": "d7e1ac23-af4e-463c-9d1e-e9b39705ec3c",
   "metadata": {},
   "outputs": [
    {
     "data": {
      "text/plain": [
       "array([0, 0, 0, ..., 0, 0, 0])"
      ]
     },
     "execution_count": 39,
     "metadata": {},
     "output_type": "execute_result"
    }
   ],
   "source": [
    "y_hat"
   ]
  },
  {
   "cell_type": "code",
   "execution_count": 44,
   "id": "2ab7f2ec-ce24-49ba-bb61-b85f9bc74799",
   "metadata": {},
   "outputs": [
    {
     "data": {
      "text/plain": [
       "1091696"
      ]
     },
     "execution_count": 44,
     "metadata": {},
     "output_type": "execute_result"
    }
   ],
   "source": [
    "sum(y_hat)\n",
    "# Just to spot check that it isnt all 0"
   ]
  },
  {
   "cell_type": "code",
   "execution_count": 42,
   "id": "32c37d45-da19-489c-8533-cd3308292f81",
   "metadata": {},
   "outputs": [
    {
     "data": {
      "text/plain": [
       "(44443440,)"
      ]
     },
     "execution_count": 42,
     "metadata": {},
     "output_type": "execute_result"
    }
   ],
   "source": [
    "y_hat.shape"
   ]
  },
  {
   "cell_type": "code",
   "execution_count": 43,
   "id": "7c075159-4545-43bf-b949-0a0af9c74767",
   "metadata": {},
   "outputs": [
    {
     "data": {
      "text/plain": [
       "(43136280, 1)"
      ]
     },
     "execution_count": 43,
     "metadata": {},
     "output_type": "execute_result"
    }
   ],
   "source": [
    "trainy.shape"
   ]
  },
  {
   "cell_type": "code",
   "execution_count": 47,
   "id": "a96d026c-3e8b-469e-9475-c9c0c140e947",
   "metadata": {},
   "outputs": [
    {
     "data": {
      "text/plain": [
       "0.945051033607905"
      ]
     },
     "execution_count": 47,
     "metadata": {},
     "output_type": "execute_result"
    }
   ],
   "source": [
    "# Checking against training data\n",
    "# Need to submit to Kaggle competition to get test data results\n",
    "mean_squared_error(trainy, y_hat[:trainy.shape[0]])"
   ]
  },
  {
   "cell_type": "markdown",
   "id": "48e8e997-9230-4240-8751-454efcb037dc",
   "metadata": {},
   "source": [
    "### Format Data to Post to Kaggle"
   ]
  },
  {
   "cell_type": "code",
   "execution_count": 80,
   "id": "0c8990f4-6204-40a0-bd09-2afe2264f9d6",
   "metadata": {},
   "outputs": [],
   "source": [
    "# Using original sales matrix cause matrix mult may have messed up some data in dfTrain\n",
    "dfSales['yhat'] = y_hat"
   ]
  },
  {
   "cell_type": "code",
   "execution_count": 88,
   "id": "8a448e77-a554-419f-a187-c4642d2a2494",
   "metadata": {},
   "outputs": [],
   "source": [
    "dfSales['next_month'] = dfTrain['next_month']"
   ]
  },
  {
   "cell_type": "code",
   "execution_count": 93,
   "id": "3d9643ec-929e-4ac7-bcd1-1dd7dce7433e",
   "metadata": {},
   "outputs": [],
   "source": [
    "dfPredict34 = dfSales.iloc[-month_size:]"
   ]
  },
  {
   "cell_type": "code",
   "execution_count": 94,
   "id": "219df2fa-6fc6-4c9f-9b76-48116fe2c175",
   "metadata": {},
   "outputs": [
    {
     "data": {
      "text/plain": [
       "18575"
      ]
     },
     "execution_count": 94,
     "metadata": {},
     "output_type": "execute_result"
    }
   ],
   "source": [
    "dfPredict34['yhat'].sum()"
   ]
  },
  {
   "cell_type": "code",
   "execution_count": 107,
   "id": "6f21341c-5010-41ba-861d-2a8d3407e4c2",
   "metadata": {},
   "outputs": [],
   "source": [
    "dfTest = pd.read_csv(\"../input/future-sales/test.csv\")"
   ]
  },
  {
   "cell_type": "code",
   "execution_count": 108,
   "id": "6228c6de-e3ce-4e81-8380-4938d547f2e9",
   "metadata": {},
   "outputs": [],
   "source": [
    "# I am going to merge with test so I want to make shop_id and item_id the indices\n",
    "dfPredict34.set_index(['shop_id','item_id'],inplace=True)\n",
    "dfTest.set_index(['shop_id','item_id'],inplace=True)"
   ]
  },
  {
   "cell_type": "code",
   "execution_count": 109,
   "id": "bf072291-7255-454e-a351-85a54a742120",
   "metadata": {},
   "outputs": [],
   "source": [
    "dfTest['item_cnt_month']=dfPredict34['next_month']"
   ]
  },
  {
   "cell_type": "code",
   "execution_count": 110,
   "id": "5335682e-5821-4179-b943-1af081f4eaae",
   "metadata": {},
   "outputs": [
    {
     "data": {
      "text/html": [
       "<div>\n",
       "<style scoped>\n",
       "    .dataframe tbody tr th:only-of-type {\n",
       "        vertical-align: middle;\n",
       "    }\n",
       "\n",
       "    .dataframe tbody tr th {\n",
       "        vertical-align: top;\n",
       "    }\n",
       "\n",
       "    .dataframe thead th {\n",
       "        text-align: right;\n",
       "    }\n",
       "</style>\n",
       "<table border=\"1\" class=\"dataframe\">\n",
       "  <thead>\n",
       "    <tr style=\"text-align: right;\">\n",
       "      <th></th>\n",
       "      <th></th>\n",
       "      <th>ID</th>\n",
       "      <th>item_cnt_month</th>\n",
       "    </tr>\n",
       "    <tr>\n",
       "      <th>shop_id</th>\n",
       "      <th>item_id</th>\n",
       "      <th></th>\n",
       "      <th></th>\n",
       "    </tr>\n",
       "  </thead>\n",
       "  <tbody>\n",
       "    <tr>\n",
       "      <th rowspan=\"5\" valign=\"top\">5</th>\n",
       "      <th>5037</th>\n",
       "      <td>0</td>\n",
       "      <td>0.0</td>\n",
       "    </tr>\n",
       "    <tr>\n",
       "      <th>5320</th>\n",
       "      <td>1</td>\n",
       "      <td>NaN</td>\n",
       "    </tr>\n",
       "    <tr>\n",
       "      <th>5233</th>\n",
       "      <td>2</td>\n",
       "      <td>0.0</td>\n",
       "    </tr>\n",
       "    <tr>\n",
       "      <th>5232</th>\n",
       "      <td>3</td>\n",
       "      <td>0.0</td>\n",
       "    </tr>\n",
       "    <tr>\n",
       "      <th>5268</th>\n",
       "      <td>4</td>\n",
       "      <td>NaN</td>\n",
       "    </tr>\n",
       "    <tr>\n",
       "      <th>...</th>\n",
       "      <th>...</th>\n",
       "      <td>...</td>\n",
       "      <td>...</td>\n",
       "    </tr>\n",
       "    <tr>\n",
       "      <th rowspan=\"5\" valign=\"top\">45</th>\n",
       "      <th>18454</th>\n",
       "      <td>214195</td>\n",
       "      <td>0.0</td>\n",
       "    </tr>\n",
       "    <tr>\n",
       "      <th>16188</th>\n",
       "      <td>214196</td>\n",
       "      <td>0.0</td>\n",
       "    </tr>\n",
       "    <tr>\n",
       "      <th>15757</th>\n",
       "      <td>214197</td>\n",
       "      <td>0.0</td>\n",
       "    </tr>\n",
       "    <tr>\n",
       "      <th>19648</th>\n",
       "      <td>214198</td>\n",
       "      <td>0.0</td>\n",
       "    </tr>\n",
       "    <tr>\n",
       "      <th>969</th>\n",
       "      <td>214199</td>\n",
       "      <td>0.0</td>\n",
       "    </tr>\n",
       "  </tbody>\n",
       "</table>\n",
       "<p>214200 rows × 2 columns</p>\n",
       "</div>"
      ],
      "text/plain": [
       "                     ID  item_cnt_month\n",
       "shop_id item_id                        \n",
       "5       5037          0             0.0\n",
       "        5320          1             NaN\n",
       "        5233          2             0.0\n",
       "        5232          3             0.0\n",
       "        5268          4             NaN\n",
       "...                 ...             ...\n",
       "45      18454    214195             0.0\n",
       "        16188    214196             0.0\n",
       "        15757    214197             0.0\n",
       "        19648    214198             0.0\n",
       "        969      214199             0.0\n",
       "\n",
       "[214200 rows x 2 columns]"
      ]
     },
     "execution_count": 110,
     "metadata": {},
     "output_type": "execute_result"
    }
   ],
   "source": [
    "dfTest"
   ]
  },
  {
   "cell_type": "code",
   "execution_count": 111,
   "id": "c64f879c-878a-4af4-9423-25ef07191363",
   "metadata": {},
   "outputs": [],
   "source": [
    "# Put the indices back to normal\n",
    "dfTest.reset_index(inplace=True)\n",
    "dfPredict34.reset_index(inplace=True)"
   ]
  },
  {
   "cell_type": "code",
   "execution_count": 115,
   "id": "8d5cf778-e85a-4dbc-a71f-e3e11084ad51",
   "metadata": {},
   "outputs": [],
   "source": [
    "# Fix some missing items\n",
    "# We can improve on how we impute - FUTURE WORK\n",
    "# Manual inspection shows that several missing items are similar to the next item id over\n",
    "# This is not always true but will use it for initial impute\n",
    "# In many cases, it is the same game but on different platform\n",
    "# A better impute would check the text string then compare with statistical trends of the platform\n",
    "# Is PS4 or Xbox more popular?\n",
    "\n",
    "i = 0\n",
    "for index,row in dfTest[dfTest['item_cnt_month'].isnull()].iterrows():\n",
    "    item_id = row['item_id'].astype(int) \n",
    "    # Try add one\n",
    "    query_impute = dfPredict34['item_cnt_month'][(dfPredict34['item_id']==item_id +1 ) & (dfPredict34['shop_id']==row['shop_id'])]\n",
    "    while query_impute.shape[0] == 0: # Try  remove 1 until we have a match\n",
    "        item_id -= 1 \n",
    "        query_impute = dfPredict34['item_cnt_month'][(dfPredict34['item_id']==item_id - 1 ) & (dfPredict34['shop_id']==row['shop_id'])]\n",
    "    # if it is a series then look at it and see what is up\n",
    "    #print(type(query_impute))\n",
    "    #if not isinstance(query_impute,np.float64):\n",
    "    #    print(\"error\",query_impute)\n",
    "    #    break\n",
    "    dfTest.loc[index,'item_cnt_month'] = float(query_impute)"
   ]
  },
  {
   "cell_type": "code",
   "execution_count": 117,
   "id": "aadf65f3-ad49-46de-b0e3-b388aa28c9c7",
   "metadata": {},
   "outputs": [],
   "source": [
    "# Save CSV\n",
    "dfTest[['ID','item_cnt_month']].to_csv(\"sample_submission_MM.csv\",index=False)"
   ]
  },
  {
   "cell_type": "markdown",
   "id": "ce907130-6b1e-4ffa-b491-be008dff1f96",
   "metadata": {},
   "source": [
    "## Analysis and Results"
   ]
  },
  {
   "cell_type": "markdown",
   "id": "f1ad576b-a05a-4f85-a239-2dd74a025b35",
   "metadata": {},
   "source": [
    "* This method worked well using the training set\n",
    "* We were able to obtain a good RMSE value when we evaluated predicted results against the training data\n",
    "* The test data has an RMSE of 1.26\n",
    "* This is a fair but not great RMSE\n",
    "* We can improve this by adding some features based on clustering items and shops \n",
    "* We discuss this more in the LSTM notebook"
   ]
  }
 ],
 "metadata": {
  "kernelspec": {
   "display_name": "Python 3 (ipykernel)",
   "language": "python",
   "name": "python3"
  },
  "language_info": {
   "codemirror_mode": {
    "name": "ipython",
    "version": 3
   },
   "file_extension": ".py",
   "mimetype": "text/x-python",
   "name": "python",
   "nbconvert_exporter": "python",
   "pygments_lexer": "ipython3",
   "version": "3.7.12"
  }
 },
 "nbformat": 4,
 "nbformat_minor": 5
}
