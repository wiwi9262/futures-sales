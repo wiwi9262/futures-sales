{
 "cells": [
  {
   "cell_type": "markdown",
   "id": "15872b6b-0ed4-4657-8aa3-bbfaedb50cb0",
   "metadata": {},
   "source": [
    "# Sales Predictions using Time Series Data\n",
    "* https://www.kaggle.com/competitions/competitive-data-science-predict-future-sales/data"
   ]
  },
  {
   "cell_type": "markdown",
   "id": "20f61c67-d245-4bca-875e-c9739fd17c23",
   "metadata": {},
   "source": [
    "## Overview of Problem"
   ]
  },
  {
   "cell_type": "markdown",
   "id": "c140e665-78f2-4bf7-87c0-10e4be3206c8",
   "metadata": {},
   "source": [
    "\"You are provided with daily historical sales data. The task is to forecast the total amount of products sold in every shop for the test set. Note that the list of shops and products slightly changes every month. Creating a robust model that can handle such situations is part of the challenge.\" *(src: competition page)*"
   ]
  },
  {
   "cell_type": "markdown",
   "id": "411fa503-03fd-4b42-90c7-a74a5f6ec8bc",
   "metadata": {},
   "source": [
    "## Imports"
   ]
  },
  {
   "cell_type": "code",
   "execution_count": 1,
   "id": "7d230b37-d476-49a4-8d0b-e96591e8c34a",
   "metadata": {},
   "outputs": [],
   "source": [
    "import numpy as np \n",
    "import pandas as pd\n",
    "import os\n",
    "import matplotlib.pyplot as plt\n",
    "import seaborn as sns\n",
    "\n",
    "from keras.callbacks import EarlyStopping\n",
    "from keras.models import Sequential\n",
    "from keras.layers import Dense\n",
    "from keras.layers import LSTM\n",
    "from keras.layers import Flatten\n",
    "from sklearn.preprocessing import MinMaxScaler\n",
    "from sklearn.metrics import mean_squared_error"
   ]
  },
  {
   "cell_type": "markdown",
   "id": "7c1ec3ef-bb38-46c8-a3f2-4e73f64238dc",
   "metadata": {},
   "source": [
    "## Load Data \n",
    "* The data provided from the Kaggle competition was edited and saved\n",
    "* This notebook will load the updated file and continue from there"
   ]
  },
  {
   "cell_type": "code",
   "execution_count": 2,
   "id": "994bf164-0d05-468a-bbd7-f408be5696e2",
   "metadata": {},
   "outputs": [],
   "source": [
    "# Load the data"
   ]
  },
  {
   "cell_type": "code",
   "execution_count": 2,
   "id": "1e13200c-4369-47f6-b028-6b452543c7c2",
   "metadata": {},
   "outputs": [],
   "source": [
    "dfSales = pd.read_csv(\"dfShopItemsFull.csv\")"
   ]
  },
  {
   "cell_type": "markdown",
   "id": "d14ef9fe-07d6-4b6c-88eb-d32c5d72c318",
   "metadata": {},
   "source": [
    "## Quick Stats on the data\n",
    "dfSales.info()"
   ]
  },
  {
   "cell_type": "markdown",
   "id": "c3a16445-02d2-42f5-843d-00268ef34d96",
   "metadata": {},
   "source": [
    "There are not any null values, but the instructions mention that there are holes in data for stores and items within some months. I am going to transform the data into a dataframe with item and store as the key and the sums for each month in the columns. "
   ]
  },
  {
   "cell_type": "code",
   "execution_count": 4,
   "id": "10441817-b1c2-4f35-8ef5-da085b299700",
   "metadata": {},
   "outputs": [
    {
     "data": {
      "text/html": [
       "<div>\n",
       "<style scoped>\n",
       "    .dataframe tbody tr th:only-of-type {\n",
       "        vertical-align: middle;\n",
       "    }\n",
       "\n",
       "    .dataframe tbody tr th {\n",
       "        vertical-align: top;\n",
       "    }\n",
       "\n",
       "    .dataframe thead th {\n",
       "        text-align: right;\n",
       "    }\n",
       "</style>\n",
       "<table border=\"1\" class=\"dataframe\">\n",
       "  <thead>\n",
       "    <tr style=\"text-align: right;\">\n",
       "      <th></th>\n",
       "      <th>date_block_num</th>\n",
       "      <th>shop_id</th>\n",
       "      <th>item_id</th>\n",
       "      <th>item_cnt_month</th>\n",
       "    </tr>\n",
       "  </thead>\n",
       "  <tbody>\n",
       "    <tr>\n",
       "      <th>0</th>\n",
       "      <td>0</td>\n",
       "      <td>0</td>\n",
       "      <td>32</td>\n",
       "      <td>6.0</td>\n",
       "    </tr>\n",
       "    <tr>\n",
       "      <th>1</th>\n",
       "      <td>0</td>\n",
       "      <td>0</td>\n",
       "      <td>33</td>\n",
       "      <td>3.0</td>\n",
       "    </tr>\n",
       "    <tr>\n",
       "      <th>2</th>\n",
       "      <td>0</td>\n",
       "      <td>0</td>\n",
       "      <td>35</td>\n",
       "      <td>1.0</td>\n",
       "    </tr>\n",
       "    <tr>\n",
       "      <th>3</th>\n",
       "      <td>0</td>\n",
       "      <td>0</td>\n",
       "      <td>43</td>\n",
       "      <td>1.0</td>\n",
       "    </tr>\n",
       "    <tr>\n",
       "      <th>4</th>\n",
       "      <td>0</td>\n",
       "      <td>0</td>\n",
       "      <td>51</td>\n",
       "      <td>2.0</td>\n",
       "    </tr>\n",
       "  </tbody>\n",
       "</table>\n",
       "</div>"
      ],
      "text/plain": [
       "   date_block_num  shop_id  item_id  item_cnt_month\n",
       "0               0        0       32             6.0\n",
       "1               0        0       33             3.0\n",
       "2               0        0       35             1.0\n",
       "3               0        0       43             1.0\n",
       "4               0        0       51             2.0"
      ]
     },
     "execution_count": 4,
     "metadata": {},
     "output_type": "execute_result"
    }
   ],
   "source": [
    "dfSales.head()"
   ]
  },
  {
   "cell_type": "markdown",
   "id": "33b981b7-6a23-453b-a240-13d67523f617",
   "metadata": {},
   "source": [
    "Much of the text of the data is in Russian. This is not really relevant because we do not need to look at item descriptions and category names. We can work with just IDs. I don't see any need to load the item and shops files unless I want to include item descriptions in my report."
   ]
  },
  {
   "cell_type": "markdown",
   "id": "5d502d54-151f-443f-b840-105fa06d79a7",
   "metadata": {},
   "source": [
    "## Supervised Learning\n",
    "### LSTM Artificial Neural Network with Linear Activation\n",
    "* The Long Short Term Memory Neural Network is a good option for time sequence data\n",
    "* To use this model we needed to align a lookback so that the model is trained using the data for the next time period as the result from the current\n",
    "* In a single variable time series problem, we can just look at the next record\n",
    "* In our problem we have a combination of items and stores so we need to have a lookback offset of items * stores\n",
    "* Some models will look forward by more than one timeslot, but due to computational and time restrictions we looked ahead by a single month\n",
    "* Similarly, we restricted our model to 2 LSTM layers and 1 dense layer\n",
    "* Results would have been improved with a deeper model but time constraints necessitated a simple model\n"
   ]
  },
  {
   "cell_type": "markdown",
   "id": "cb371916-305c-4def-9b1d-b2841601b051",
   "metadata": {},
   "source": [
    "#### Scale the Data\n",
    "* The data must be scaled to use an LSTM Neural Network"
   ]
  },
  {
   "cell_type": "code",
   "execution_count": 5,
   "id": "44603ab1-fa94-475e-ad96-b88998515c7c",
   "metadata": {},
   "outputs": [],
   "source": [
    "#training_labels = dfSales['item_cnt_month']"
   ]
  },
  {
   "cell_type": "code",
   "execution_count": 9,
   "id": "3a41175e-218c-468a-8b57-93e5c8959d6e",
   "metadata": {},
   "outputs": [],
   "source": [
    "scaler = MinMaxScaler(feature_range=(0, 1))\n",
    "dfScaled = pd.DataFrame(scaler.fit_transform(dfSales[['date_block_num','shop_id','item_id','item_cnt_month']]),\n",
    "                                           columns= ['date_block_num','shop_id','item_id','item_cnt_month'])"
   ]
  },
  {
   "cell_type": "code",
   "execution_count": 10,
   "id": "606bb7fd-8d05-4384-bd4b-d7fb51fe6fb8",
   "metadata": {},
   "outputs": [
    {
     "data": {
      "text/html": [
       "<div>\n",
       "<style scoped>\n",
       "    .dataframe tbody tr th:only-of-type {\n",
       "        vertical-align: middle;\n",
       "    }\n",
       "\n",
       "    .dataframe tbody tr th {\n",
       "        vertical-align: top;\n",
       "    }\n",
       "\n",
       "    .dataframe thead th {\n",
       "        text-align: right;\n",
       "    }\n",
       "</style>\n",
       "<table border=\"1\" class=\"dataframe\">\n",
       "  <thead>\n",
       "    <tr style=\"text-align: right;\">\n",
       "      <th></th>\n",
       "      <th>date_block_num</th>\n",
       "      <th>shop_id</th>\n",
       "      <th>item_id</th>\n",
       "      <th>item_cnt_month</th>\n",
       "    </tr>\n",
       "  </thead>\n",
       "  <tbody>\n",
       "    <tr>\n",
       "      <th>0</th>\n",
       "      <td>0.0</td>\n",
       "      <td>0.000000</td>\n",
       "      <td>0.001443</td>\n",
       "      <td>0.022152</td>\n",
       "    </tr>\n",
       "    <tr>\n",
       "      <th>1</th>\n",
       "      <td>0.0</td>\n",
       "      <td>0.000000</td>\n",
       "      <td>0.001489</td>\n",
       "      <td>0.019778</td>\n",
       "    </tr>\n",
       "    <tr>\n",
       "      <th>2</th>\n",
       "      <td>0.0</td>\n",
       "      <td>0.000000</td>\n",
       "      <td>0.001579</td>\n",
       "      <td>0.018196</td>\n",
       "    </tr>\n",
       "    <tr>\n",
       "      <th>3</th>\n",
       "      <td>0.0</td>\n",
       "      <td>0.000000</td>\n",
       "      <td>0.001940</td>\n",
       "      <td>0.018196</td>\n",
       "    </tr>\n",
       "    <tr>\n",
       "      <th>4</th>\n",
       "      <td>0.0</td>\n",
       "      <td>0.000000</td>\n",
       "      <td>0.002301</td>\n",
       "      <td>0.018987</td>\n",
       "    </tr>\n",
       "    <tr>\n",
       "      <th>...</th>\n",
       "      <td>...</td>\n",
       "      <td>...</td>\n",
       "      <td>...</td>\n",
       "      <td>...</td>\n",
       "    </tr>\n",
       "    <tr>\n",
       "      <th>44443435</th>\n",
       "      <td>1.0</td>\n",
       "      <td>0.610169</td>\n",
       "      <td>0.574361</td>\n",
       "      <td>0.017405</td>\n",
       "    </tr>\n",
       "    <tr>\n",
       "      <th>44443436</th>\n",
       "      <td>1.0</td>\n",
       "      <td>0.610169</td>\n",
       "      <td>0.590554</td>\n",
       "      <td>0.017405</td>\n",
       "    </tr>\n",
       "    <tr>\n",
       "      <th>44443437</th>\n",
       "      <td>1.0</td>\n",
       "      <td>0.610169</td>\n",
       "      <td>0.757680</td>\n",
       "      <td>0.017405</td>\n",
       "    </tr>\n",
       "    <tr>\n",
       "      <th>44443438</th>\n",
       "      <td>1.0</td>\n",
       "      <td>0.610169</td>\n",
       "      <td>0.814651</td>\n",
       "      <td>0.017405</td>\n",
       "    </tr>\n",
       "    <tr>\n",
       "      <th>44443439</th>\n",
       "      <td>1.0</td>\n",
       "      <td>0.610169</td>\n",
       "      <td>0.718345</td>\n",
       "      <td>0.017405</td>\n",
       "    </tr>\n",
       "  </tbody>\n",
       "</table>\n",
       "<p>44443440 rows × 4 columns</p>\n",
       "</div>"
      ],
      "text/plain": [
       "          date_block_num   shop_id   item_id  item_cnt_month\n",
       "0                    0.0  0.000000  0.001443        0.022152\n",
       "1                    0.0  0.000000  0.001489        0.019778\n",
       "2                    0.0  0.000000  0.001579        0.018196\n",
       "3                    0.0  0.000000  0.001940        0.018196\n",
       "4                    0.0  0.000000  0.002301        0.018987\n",
       "...                  ...       ...       ...             ...\n",
       "44443435             1.0  0.610169  0.574361        0.017405\n",
       "44443436             1.0  0.610169  0.590554        0.017405\n",
       "44443437             1.0  0.610169  0.757680        0.017405\n",
       "44443438             1.0  0.610169  0.814651        0.017405\n",
       "44443439             1.0  0.610169  0.718345        0.017405\n",
       "\n",
       "[44443440 rows x 4 columns]"
      ]
     },
     "execution_count": 10,
     "metadata": {},
     "output_type": "execute_result"
    }
   ],
   "source": [
    "dfScaled "
   ]
  },
  {
   "cell_type": "code",
   "execution_count": 11,
   "id": "2e112bdd-df8c-4bf5-9d0f-c6fbb6641de8",
   "metadata": {},
   "outputs": [],
   "source": [
    "# The orginal dataframe takes 1.3 GB of memory\n",
    "# I am going to remove the original dataset due to memory constraints\n",
    "del dfSales"
   ]
  },
  {
   "cell_type": "markdown",
   "id": "b50c92f4-4e44-4cec-b503-01dc96ce8376",
   "metadata": {},
   "source": [
    "#### Test and Train Data Split"
   ]
  },
  {
   "cell_type": "code",
   "execution_count": null,
   "id": "672a5bc9-49bb-4382-aef3-c1774531b09f",
   "metadata": {},
   "outputs": [],
   "source": [
    "# Break the dataset into test and training\n",
    "# traning with everything except the last month and test with that"
   ]
  },
  {
   "cell_type": "code",
   "execution_count": 8,
   "id": "08c239f9-202c-49ab-8d65-11aa8bfadabb",
   "metadata": {},
   "outputs": [],
   "source": [
    "last_month_size = dfScaled[dfScaled['date_block_num'].astype(int)==1].shape[0]"
   ]
  },
  {
   "cell_type": "code",
   "execution_count": 46,
   "id": "a747f293-0fac-470c-aa9c-b6c411246277",
   "metadata": {},
   "outputs": [],
   "source": [
    "#X_test = dfScaled.iloc[-last_month_size:]"
   ]
  },
  {
   "cell_type": "code",
   "execution_count": 48,
   "id": "574d57e5-3dc8-4618-a12d-6c5e7150c293",
   "metadata": {},
   "outputs": [],
   "source": [
    "#X_train = dfScaled.iloc[:-last_month_size]"
   ]
  },
  {
   "cell_type": "code",
   "execution_count": 50,
   "id": "931a7eb2-896b-4fe2-ad8e-efe41d40b6fa",
   "metadata": {},
   "outputs": [],
   "source": [
    "#y_train = training_labels[:-last_month_size]"
   ]
  },
  {
   "cell_type": "code",
   "execution_count": 51,
   "id": "e0c47e59-4143-4ca9-9bd4-c171c3566fea",
   "metadata": {},
   "outputs": [],
   "source": [
    "#y_test = training_labels[-last_month_size:]"
   ]
  },
  {
   "cell_type": "markdown",
   "id": "c131254d-deb2-474b-8dd1-bdea00099ff5",
   "metadata": {},
   "source": [
    "#### Model \n",
    "* We tested a few different model configurations\n",
    "* Some of them either took too long to train or resulted in too high loss\n",
    "* For the purposes of brevity, we are only showing one model in this notebook\n"
   ]
  },
  {
   "cell_type": "code",
   "execution_count": 12,
   "id": "0d9e379a-faf7-4292-b930-ba82701564f2",
   "metadata": {},
   "outputs": [],
   "source": [
    "last_month_size = dfScaled[dfScaled['date_block_num'].astype(int)==1].shape[0]"
   ]
  },
  {
   "cell_type": "code",
   "execution_count": 13,
   "id": "66e458a2-dcdf-4112-b7e1-faa3aa70bf83",
   "metadata": {},
   "outputs": [],
   "source": [
    "trainx = np.array(dfScaled.iloc[:-last_month_size,:].reset_index().drop(['index'],axis=1))\n",
    "trainy = dfScaled.iloc[last_month_size:,:]['item_cnt_month'].reset_index().drop(['index'],axis=1)"
   ]
  },
  {
   "cell_type": "code",
   "execution_count": 14,
   "id": "095afc5a-0596-43cd-8c94-7f2e95cb273a",
   "metadata": {},
   "outputs": [
    {
     "data": {
      "text/html": [
       "<div>\n",
       "<style scoped>\n",
       "    .dataframe tbody tr th:only-of-type {\n",
       "        vertical-align: middle;\n",
       "    }\n",
       "\n",
       "    .dataframe tbody tr th {\n",
       "        vertical-align: top;\n",
       "    }\n",
       "\n",
       "    .dataframe thead th {\n",
       "        text-align: right;\n",
       "    }\n",
       "</style>\n",
       "<table border=\"1\" class=\"dataframe\">\n",
       "  <thead>\n",
       "    <tr style=\"text-align: right;\">\n",
       "      <th></th>\n",
       "      <th>item_cnt_month</th>\n",
       "    </tr>\n",
       "  </thead>\n",
       "  <tbody>\n",
       "    <tr>\n",
       "      <th>0</th>\n",
       "      <td>0.025316</td>\n",
       "    </tr>\n",
       "    <tr>\n",
       "      <th>1</th>\n",
       "      <td>0.019778</td>\n",
       "    </tr>\n",
       "    <tr>\n",
       "      <th>2</th>\n",
       "      <td>0.028481</td>\n",
       "    </tr>\n",
       "    <tr>\n",
       "      <th>3</th>\n",
       "      <td>0.017405</td>\n",
       "    </tr>\n",
       "    <tr>\n",
       "      <th>4</th>\n",
       "      <td>0.019778</td>\n",
       "    </tr>\n",
       "    <tr>\n",
       "      <th>...</th>\n",
       "      <td>...</td>\n",
       "    </tr>\n",
       "    <tr>\n",
       "      <th>43136275</th>\n",
       "      <td>0.017405</td>\n",
       "    </tr>\n",
       "    <tr>\n",
       "      <th>43136276</th>\n",
       "      <td>0.017405</td>\n",
       "    </tr>\n",
       "    <tr>\n",
       "      <th>43136277</th>\n",
       "      <td>0.017405</td>\n",
       "    </tr>\n",
       "    <tr>\n",
       "      <th>43136278</th>\n",
       "      <td>0.017405</td>\n",
       "    </tr>\n",
       "    <tr>\n",
       "      <th>43136279</th>\n",
       "      <td>0.017405</td>\n",
       "    </tr>\n",
       "  </tbody>\n",
       "</table>\n",
       "<p>43136280 rows × 1 columns</p>\n",
       "</div>"
      ],
      "text/plain": [
       "          item_cnt_month\n",
       "0               0.025316\n",
       "1               0.019778\n",
       "2               0.028481\n",
       "3               0.017405\n",
       "4               0.019778\n",
       "...                  ...\n",
       "43136275        0.017405\n",
       "43136276        0.017405\n",
       "43136277        0.017405\n",
       "43136278        0.017405\n",
       "43136279        0.017405\n",
       "\n",
       "[43136280 rows x 1 columns]"
      ]
     },
     "execution_count": 14,
     "metadata": {},
     "output_type": "execute_result"
    }
   ],
   "source": [
    "trainy"
   ]
  },
  {
   "cell_type": "code",
   "execution_count": 15,
   "id": "1e5a62e4-4002-48e3-bebe-0d719d46ccc5",
   "metadata": {},
   "outputs": [
    {
     "data": {
      "text/plain": [
       "array([[0.        , 0.        , 0.00144346, 0.0221519 ],\n",
       "       [0.        , 0.        , 0.00148857, 0.01977848],\n",
       "       [0.        , 0.        , 0.00157878, 0.0181962 ],\n",
       "       ...,\n",
       "       [0.96969697, 0.61016949, 0.75767964, 0.01740506],\n",
       "       [0.96969697, 0.61016949, 0.81465109, 0.01740506],\n",
       "       [0.96969697, 0.61016949, 0.71834544, 0.01740506]])"
      ]
     },
     "execution_count": 15,
     "metadata": {},
     "output_type": "execute_result"
    }
   ],
   "source": [
    "trainx"
   ]
  },
  {
   "cell_type": "code",
   "execution_count": 16,
   "id": "f63b03e5-542d-45ec-af3a-864eff9c7ede",
   "metadata": {},
   "outputs": [],
   "source": [
    "trainx = np.reshape(trainx, (trainx.shape[0], 1, 4))\n",
    "#testx = np.reshape(testx, (testx.shape[0], 1, 4))"
   ]
  },
  {
   "cell_type": "code",
   "execution_count": 17,
   "id": "bc9b8059-0c03-46e7-929d-6a537b70fd3c",
   "metadata": {},
   "outputs": [
    {
     "data": {
      "text/plain": [
       "(43136280, 1, 4)"
      ]
     },
     "execution_count": 17,
     "metadata": {},
     "output_type": "execute_result"
    }
   ],
   "source": [
    "trainx.shape"
   ]
  },
  {
   "cell_type": "code",
   "execution_count": 18,
   "id": "a287cb78-d131-4bb6-a2f0-17fa546904b1",
   "metadata": {},
   "outputs": [
    {
     "name": "stderr",
     "output_type": "stream",
     "text": [
      "2022-06-08 14:01:36.441899: I tensorflow/core/common_runtime/process_util.cc:146] Creating new thread pool with default inter op setting: 2. Tune using inter_op_parallelism_threads for best performance.\n"
     ]
    }
   ],
   "source": [
    "# create and fit the LSTM network\n",
    "\n",
    "model = Sequential()\n",
    "model.add(LSTM(256, return_sequences = True, input_shape = (trainx.shape[1], 4)))\n",
    "model.add(LSTM(128,input_shape = (trainx.shape[1], 2)))\n",
    "#model.add(Flatten())\n",
    "model.add(Dense(1))\n",
    "model.compile(loss = 'mean_squared_error', optimizer = 'adam')"
   ]
  },
  {
   "cell_type": "code",
   "execution_count": 19,
   "id": "73f194b8-71fe-4e7a-a02e-63f341f6c1e2",
   "metadata": {},
   "outputs": [
    {
     "name": "stdout",
     "output_type": "stream",
     "text": [
      "Model: \"sequential\"\n",
      "_________________________________________________________________\n",
      "Layer (type)                 Output Shape              Param #   \n",
      "=================================================================\n",
      "lstm (LSTM)                  (None, 1, 256)            267264    \n",
      "_________________________________________________________________\n",
      "lstm_1 (LSTM)                (None, 128)               197120    \n",
      "_________________________________________________________________\n",
      "dense (Dense)                (None, 1)                 129       \n",
      "=================================================================\n",
      "Total params: 464,513\n",
      "Trainable params: 464,513\n",
      "Non-trainable params: 0\n",
      "_________________________________________________________________\n"
     ]
    }
   ],
   "source": [
    "model.summary()"
   ]
  },
  {
   "cell_type": "code",
   "execution_count": null,
   "id": "a094d16f-fcd4-4ee5-9765-220d158dce99",
   "metadata": {},
   "outputs": [
    {
     "name": "stderr",
     "output_type": "stream",
     "text": [
      "2022-06-08 14:02:00.366077: I tensorflow/compiler/mlir/mlir_graph_optimization_pass.cc:185] None of the MLIR Optimization Passes are enabled (registered 2)\n"
     ]
    },
    {
     "name": "stdout",
     "output_type": "stream",
     "text": [
      "Epoch 1/20\n",
      "170849/718938 [======>.......................] - ETA: 1:05:10 - loss: 7.9538e-07"
     ]
    }
   ],
   "source": [
    "call_backs = [EarlyStopping(monitor='loss', patience=3, verbose=1)]\n",
    "history = model.fit(trainx, trainy, epochs = 20, batch_size = 60, verbose = True, shuffle = False,  callbacks = call_backs)\n",
    "model.save_weights('LSTMBasic1.h5')\n",
    "# This will run a day. Hopefully it comes up with something useful\n"
   ]
  },
  {
   "cell_type": "code",
   "execution_count": 22,
   "id": "b854ddf2-57f5-4f4e-87ee-e393f9c0d151",
   "metadata": {},
   "outputs": [
    {
     "data": {
      "text/plain": [
       "[0, 1, 2, 3, 4, 5, 6, 7, 8, 9, 10]"
      ]
     },
     "execution_count": 22,
     "metadata": {},
     "output_type": "execute_result"
    }
   ],
   "source": [
    "# This finished but I lost connection and didn't see the verbose output\n",
    "history.epoch\n",
    "# Look up how to get the loss for each epoch"
   ]
  },
  {
   "cell_type": "code",
   "execution_count": null,
   "id": "130d86cf-869d-4e69-b21c-ee0caf466921",
   "metadata": {},
   "outputs": [],
   "source": [
    "# Predict using training data to see how accurate it is for training\n",
    "y_hat = model.predict(trainx)\n"
   ]
  },
  {
   "cell_type": "code",
   "execution_count": 29,
   "id": "ee3f76e7-36f9-4d3f-83c6-514d9b1fb405",
   "metadata": {},
   "outputs": [
    {
     "data": {
      "text/plain": [
       "array([[0.04450752],\n",
       "       [0.03698179],\n",
       "       [0.03183561],\n",
       "       ...,\n",
       "       [0.01730757],\n",
       "       [0.01730722],\n",
       "       [0.01730787]], dtype=float32)"
      ]
     },
     "execution_count": 29,
     "metadata": {},
     "output_type": "execute_result"
    }
   ],
   "source": [
    "y_hat"
   ]
  },
  {
   "cell_type": "code",
   "execution_count": 31,
   "id": "68436b28-f598-49e0-a505-c9fb5fef68d2",
   "metadata": {},
   "outputs": [],
   "source": [
    "# I messed up but I dont want to restart the kernel. I should have scaled the item_cnt_month on its own\n",
    "dfYhat = dfScaled.iloc[:-last_month_size,:].reset_index().drop(['index'],axis=1)"
   ]
  },
  {
   "cell_type": "code",
   "execution_count": 35,
   "id": "fbdfca11-2e7b-4a05-9170-0a1bcff57f23",
   "metadata": {},
   "outputs": [],
   "source": [
    "dfYhat['item_cnt_month'] =y_hat"
   ]
  },
  {
   "cell_type": "code",
   "execution_count": 36,
   "id": "c709a61b-59a6-4dc9-a238-621c9e8dffa3",
   "metadata": {},
   "outputs": [
    {
     "data": {
      "text/html": [
       "<div>\n",
       "<style scoped>\n",
       "    .dataframe tbody tr th:only-of-type {\n",
       "        vertical-align: middle;\n",
       "    }\n",
       "\n",
       "    .dataframe tbody tr th {\n",
       "        vertical-align: top;\n",
       "    }\n",
       "\n",
       "    .dataframe thead th {\n",
       "        text-align: right;\n",
       "    }\n",
       "</style>\n",
       "<table border=\"1\" class=\"dataframe\">\n",
       "  <thead>\n",
       "    <tr style=\"text-align: right;\">\n",
       "      <th></th>\n",
       "      <th>date_block_num</th>\n",
       "      <th>shop_id</th>\n",
       "      <th>item_id</th>\n",
       "      <th>item_cnt_month</th>\n",
       "    </tr>\n",
       "  </thead>\n",
       "  <tbody>\n",
       "    <tr>\n",
       "      <th>0</th>\n",
       "      <td>0.000000</td>\n",
       "      <td>0.000000</td>\n",
       "      <td>0.001443</td>\n",
       "      <td>0.044508</td>\n",
       "    </tr>\n",
       "    <tr>\n",
       "      <th>1</th>\n",
       "      <td>0.000000</td>\n",
       "      <td>0.000000</td>\n",
       "      <td>0.001489</td>\n",
       "      <td>0.036982</td>\n",
       "    </tr>\n",
       "    <tr>\n",
       "      <th>2</th>\n",
       "      <td>0.000000</td>\n",
       "      <td>0.000000</td>\n",
       "      <td>0.001579</td>\n",
       "      <td>0.031836</td>\n",
       "    </tr>\n",
       "    <tr>\n",
       "      <th>3</th>\n",
       "      <td>0.000000</td>\n",
       "      <td>0.000000</td>\n",
       "      <td>0.001940</td>\n",
       "      <td>0.031828</td>\n",
       "    </tr>\n",
       "    <tr>\n",
       "      <th>4</th>\n",
       "      <td>0.000000</td>\n",
       "      <td>0.000000</td>\n",
       "      <td>0.002301</td>\n",
       "      <td>0.034396</td>\n",
       "    </tr>\n",
       "    <tr>\n",
       "      <th>...</th>\n",
       "      <td>...</td>\n",
       "      <td>...</td>\n",
       "      <td>...</td>\n",
       "      <td>...</td>\n",
       "    </tr>\n",
       "    <tr>\n",
       "      <th>43136275</th>\n",
       "      <td>0.969697</td>\n",
       "      <td>0.610169</td>\n",
       "      <td>0.574361</td>\n",
       "      <td>0.017309</td>\n",
       "    </tr>\n",
       "    <tr>\n",
       "      <th>43136276</th>\n",
       "      <td>0.969697</td>\n",
       "      <td>0.610169</td>\n",
       "      <td>0.590554</td>\n",
       "      <td>0.017309</td>\n",
       "    </tr>\n",
       "    <tr>\n",
       "      <th>43136277</th>\n",
       "      <td>0.969697</td>\n",
       "      <td>0.610169</td>\n",
       "      <td>0.757680</td>\n",
       "      <td>0.017308</td>\n",
       "    </tr>\n",
       "    <tr>\n",
       "      <th>43136278</th>\n",
       "      <td>0.969697</td>\n",
       "      <td>0.610169</td>\n",
       "      <td>0.814651</td>\n",
       "      <td>0.017307</td>\n",
       "    </tr>\n",
       "    <tr>\n",
       "      <th>43136279</th>\n",
       "      <td>0.969697</td>\n",
       "      <td>0.610169</td>\n",
       "      <td>0.718345</td>\n",
       "      <td>0.017308</td>\n",
       "    </tr>\n",
       "  </tbody>\n",
       "</table>\n",
       "<p>43136280 rows × 4 columns</p>\n",
       "</div>"
      ],
      "text/plain": [
       "          date_block_num   shop_id   item_id  item_cnt_month\n",
       "0               0.000000  0.000000  0.001443        0.044508\n",
       "1               0.000000  0.000000  0.001489        0.036982\n",
       "2               0.000000  0.000000  0.001579        0.031836\n",
       "3               0.000000  0.000000  0.001940        0.031828\n",
       "4               0.000000  0.000000  0.002301        0.034396\n",
       "...                  ...       ...       ...             ...\n",
       "43136275        0.969697  0.610169  0.574361        0.017309\n",
       "43136276        0.969697  0.610169  0.590554        0.017309\n",
       "43136277        0.969697  0.610169  0.757680        0.017308\n",
       "43136278        0.969697  0.610169  0.814651        0.017307\n",
       "43136279        0.969697  0.610169  0.718345        0.017308\n",
       "\n",
       "[43136280 rows x 4 columns]"
      ]
     },
     "execution_count": 36,
     "metadata": {},
     "output_type": "execute_result"
    }
   ],
   "source": [
    "dfYhat"
   ]
  },
  {
   "cell_type": "code",
   "execution_count": 38,
   "id": "00429dcb-ea62-493f-842e-cb79bec10ae6",
   "metadata": {},
   "outputs": [
    {
     "data": {
      "text/html": [
       "<div>\n",
       "<style scoped>\n",
       "    .dataframe tbody tr th:only-of-type {\n",
       "        vertical-align: middle;\n",
       "    }\n",
       "\n",
       "    .dataframe tbody tr th {\n",
       "        vertical-align: top;\n",
       "    }\n",
       "\n",
       "    .dataframe thead th {\n",
       "        text-align: right;\n",
       "    }\n",
       "</style>\n",
       "<table border=\"1\" class=\"dataframe\">\n",
       "  <thead>\n",
       "    <tr style=\"text-align: right;\">\n",
       "      <th></th>\n",
       "      <th>date_block_num</th>\n",
       "      <th>shop_id</th>\n",
       "      <th>item_id</th>\n",
       "      <th>item_cnt_month</th>\n",
       "    </tr>\n",
       "  </thead>\n",
       "  <tbody>\n",
       "    <tr>\n",
       "      <th>0</th>\n",
       "      <td>0.000000</td>\n",
       "      <td>0.000000</td>\n",
       "      <td>0.001443</td>\n",
       "      <td>0.022152</td>\n",
       "    </tr>\n",
       "    <tr>\n",
       "      <th>1</th>\n",
       "      <td>0.000000</td>\n",
       "      <td>0.000000</td>\n",
       "      <td>0.001489</td>\n",
       "      <td>0.019778</td>\n",
       "    </tr>\n",
       "    <tr>\n",
       "      <th>2</th>\n",
       "      <td>0.000000</td>\n",
       "      <td>0.000000</td>\n",
       "      <td>0.001579</td>\n",
       "      <td>0.018196</td>\n",
       "    </tr>\n",
       "    <tr>\n",
       "      <th>3</th>\n",
       "      <td>0.000000</td>\n",
       "      <td>0.000000</td>\n",
       "      <td>0.001940</td>\n",
       "      <td>0.018196</td>\n",
       "    </tr>\n",
       "    <tr>\n",
       "      <th>4</th>\n",
       "      <td>0.000000</td>\n",
       "      <td>0.000000</td>\n",
       "      <td>0.002301</td>\n",
       "      <td>0.018987</td>\n",
       "    </tr>\n",
       "    <tr>\n",
       "      <th>...</th>\n",
       "      <td>...</td>\n",
       "      <td>...</td>\n",
       "      <td>...</td>\n",
       "      <td>...</td>\n",
       "    </tr>\n",
       "    <tr>\n",
       "      <th>43136275</th>\n",
       "      <td>0.969697</td>\n",
       "      <td>0.610169</td>\n",
       "      <td>0.574361</td>\n",
       "      <td>0.017405</td>\n",
       "    </tr>\n",
       "    <tr>\n",
       "      <th>43136276</th>\n",
       "      <td>0.969697</td>\n",
       "      <td>0.610169</td>\n",
       "      <td>0.590554</td>\n",
       "      <td>0.017405</td>\n",
       "    </tr>\n",
       "    <tr>\n",
       "      <th>43136277</th>\n",
       "      <td>0.969697</td>\n",
       "      <td>0.610169</td>\n",
       "      <td>0.757680</td>\n",
       "      <td>0.017405</td>\n",
       "    </tr>\n",
       "    <tr>\n",
       "      <th>43136278</th>\n",
       "      <td>0.969697</td>\n",
       "      <td>0.610169</td>\n",
       "      <td>0.814651</td>\n",
       "      <td>0.017405</td>\n",
       "    </tr>\n",
       "    <tr>\n",
       "      <th>43136279</th>\n",
       "      <td>0.969697</td>\n",
       "      <td>0.610169</td>\n",
       "      <td>0.718345</td>\n",
       "      <td>0.017405</td>\n",
       "    </tr>\n",
       "  </tbody>\n",
       "</table>\n",
       "<p>43136280 rows × 4 columns</p>\n",
       "</div>"
      ],
      "text/plain": [
       "          date_block_num   shop_id   item_id  item_cnt_month\n",
       "0               0.000000  0.000000  0.001443        0.022152\n",
       "1               0.000000  0.000000  0.001489        0.019778\n",
       "2               0.000000  0.000000  0.001579        0.018196\n",
       "3               0.000000  0.000000  0.001940        0.018196\n",
       "4               0.000000  0.000000  0.002301        0.018987\n",
       "...                  ...       ...       ...             ...\n",
       "43136275        0.969697  0.610169  0.574361        0.017405\n",
       "43136276        0.969697  0.610169  0.590554        0.017405\n",
       "43136277        0.969697  0.610169  0.757680        0.017405\n",
       "43136278        0.969697  0.610169  0.814651        0.017405\n",
       "43136279        0.969697  0.610169  0.718345        0.017405\n",
       "\n",
       "[43136280 rows x 4 columns]"
      ]
     },
     "execution_count": 38,
     "metadata": {},
     "output_type": "execute_result"
    }
   ],
   "source": [
    "dfScaled.iloc[:-last_month_size,:]"
   ]
  },
  {
   "cell_type": "code",
   "execution_count": 43,
   "id": "8583706f-962e-45f9-96a1-30994bbe759c",
   "metadata": {},
   "outputs": [],
   "source": [
    "# We need to unscale the data so we can see it in the original scale\n",
    "yhat_unscaled = scaler.inverse_transform(dfYhat)[:, 3]"
   ]
  },
  {
   "cell_type": "code",
   "execution_count": 45,
   "id": "fd9b9bbf-446e-45ee-b5c6-2b80241775c7",
   "metadata": {},
   "outputs": [
    {
     "data": {
      "text/plain": [
       "(43136280,)"
      ]
     },
     "execution_count": 45,
     "metadata": {},
     "output_type": "execute_result"
    }
   ],
   "source": [
    "yhat_unscaled.shape"
   ]
  },
  {
   "cell_type": "code",
   "execution_count": 47,
   "id": "0cc644fc-d8c4-4ca7-8656-ba44cdbce438",
   "metadata": {},
   "outputs": [
    {
     "data": {
      "text/html": [
       "<div>\n",
       "<style scoped>\n",
       "    .dataframe tbody tr th:only-of-type {\n",
       "        vertical-align: middle;\n",
       "    }\n",
       "\n",
       "    .dataframe tbody tr th {\n",
       "        vertical-align: top;\n",
       "    }\n",
       "\n",
       "    .dataframe thead th {\n",
       "        text-align: right;\n",
       "    }\n",
       "</style>\n",
       "<table border=\"1\" class=\"dataframe\">\n",
       "  <thead>\n",
       "    <tr style=\"text-align: right;\">\n",
       "      <th></th>\n",
       "      <th>item_cnt_month</th>\n",
       "    </tr>\n",
       "  </thead>\n",
       "  <tbody>\n",
       "    <tr>\n",
       "      <th>0</th>\n",
       "      <td>0.025316</td>\n",
       "    </tr>\n",
       "    <tr>\n",
       "      <th>1</th>\n",
       "      <td>0.019778</td>\n",
       "    </tr>\n",
       "    <tr>\n",
       "      <th>2</th>\n",
       "      <td>0.028481</td>\n",
       "    </tr>\n",
       "    <tr>\n",
       "      <th>3</th>\n",
       "      <td>0.017405</td>\n",
       "    </tr>\n",
       "    <tr>\n",
       "      <th>4</th>\n",
       "      <td>0.019778</td>\n",
       "    </tr>\n",
       "    <tr>\n",
       "      <th>...</th>\n",
       "      <td>...</td>\n",
       "    </tr>\n",
       "    <tr>\n",
       "      <th>43136275</th>\n",
       "      <td>0.017405</td>\n",
       "    </tr>\n",
       "    <tr>\n",
       "      <th>43136276</th>\n",
       "      <td>0.017405</td>\n",
       "    </tr>\n",
       "    <tr>\n",
       "      <th>43136277</th>\n",
       "      <td>0.017405</td>\n",
       "    </tr>\n",
       "    <tr>\n",
       "      <th>43136278</th>\n",
       "      <td>0.017405</td>\n",
       "    </tr>\n",
       "    <tr>\n",
       "      <th>43136279</th>\n",
       "      <td>0.017405</td>\n",
       "    </tr>\n",
       "  </tbody>\n",
       "</table>\n",
       "<p>43136280 rows × 1 columns</p>\n",
       "</div>"
      ],
      "text/plain": [
       "          item_cnt_month\n",
       "0               0.025316\n",
       "1               0.019778\n",
       "2               0.028481\n",
       "3               0.017405\n",
       "4               0.019778\n",
       "...                  ...\n",
       "43136275        0.017405\n",
       "43136276        0.017405\n",
       "43136277        0.017405\n",
       "43136278        0.017405\n",
       "43136279        0.017405\n",
       "\n",
       "[43136280 rows x 1 columns]"
      ]
     },
     "execution_count": 47,
     "metadata": {},
     "output_type": "execute_result"
    }
   ],
   "source": [
    "trainy"
   ]
  },
  {
   "cell_type": "code",
   "execution_count": 48,
   "id": "66c2622b-ae60-4938-a061-8d331b3f32ee",
   "metadata": {},
   "outputs": [
    {
     "data": {
      "text/plain": [
       "1.257088408350787"
      ]
     },
     "execution_count": 48,
     "metadata": {},
     "output_type": "execute_result"
    }
   ],
   "source": [
    "# Calculate RMSE of unscaled data\n",
    "# The result is fair, but not greet\n",
    "# We need to see what else good for the domain\n",
    "mean_squared_error(trainy, yhat_unscaled)"
   ]
  },
  {
   "cell_type": "code",
   "execution_count": 51,
   "id": "d1c0eaab-fae6-4f57-8853-7103f5f2e784",
   "metadata": {},
   "outputs": [
    {
     "data": {
      "text/plain": [
       "8.372294129050908e-07"
      ]
     },
     "execution_count": 51,
     "metadata": {},
     "output_type": "execute_result"
    }
   ],
   "source": [
    "# Calculate RMSE of scaled data\n",
    "# This seems good for an RMSE on the training data\n",
    "mean_squared_error(dfScaled.iloc[:-last_month_size,3], y_hat)"
   ]
  },
  {
   "cell_type": "code",
   "execution_count": 52,
   "id": "2cf483c2-8677-4d7c-9eb5-44c1c9441a2b",
   "metadata": {},
   "outputs": [
    {
     "data": {
      "text/html": [
       "<div>\n",
       "<style scoped>\n",
       "    .dataframe tbody tr th:only-of-type {\n",
       "        vertical-align: middle;\n",
       "    }\n",
       "\n",
       "    .dataframe tbody tr th {\n",
       "        vertical-align: top;\n",
       "    }\n",
       "\n",
       "    .dataframe thead th {\n",
       "        text-align: right;\n",
       "    }\n",
       "</style>\n",
       "<table border=\"1\" class=\"dataframe\">\n",
       "  <thead>\n",
       "    <tr style=\"text-align: right;\">\n",
       "      <th></th>\n",
       "      <th>date_block_num</th>\n",
       "      <th>shop_id</th>\n",
       "      <th>item_id</th>\n",
       "      <th>item_cnt_month</th>\n",
       "    </tr>\n",
       "  </thead>\n",
       "  <tbody>\n",
       "    <tr>\n",
       "      <th>43136280</th>\n",
       "      <td>1.0</td>\n",
       "      <td>0.000000</td>\n",
       "      <td>0.001443</td>\n",
       "      <td>0.017405</td>\n",
       "    </tr>\n",
       "    <tr>\n",
       "      <th>43136281</th>\n",
       "      <td>1.0</td>\n",
       "      <td>0.000000</td>\n",
       "      <td>0.001489</td>\n",
       "      <td>0.017405</td>\n",
       "    </tr>\n",
       "    <tr>\n",
       "      <th>43136282</th>\n",
       "      <td>1.0</td>\n",
       "      <td>0.000000</td>\n",
       "      <td>0.001579</td>\n",
       "      <td>0.017405</td>\n",
       "    </tr>\n",
       "    <tr>\n",
       "      <th>43136283</th>\n",
       "      <td>1.0</td>\n",
       "      <td>0.000000</td>\n",
       "      <td>0.001940</td>\n",
       "      <td>0.017405</td>\n",
       "    </tr>\n",
       "    <tr>\n",
       "      <th>43136284</th>\n",
       "      <td>1.0</td>\n",
       "      <td>0.000000</td>\n",
       "      <td>0.002301</td>\n",
       "      <td>0.017405</td>\n",
       "    </tr>\n",
       "    <tr>\n",
       "      <th>...</th>\n",
       "      <td>...</td>\n",
       "      <td>...</td>\n",
       "      <td>...</td>\n",
       "      <td>...</td>\n",
       "    </tr>\n",
       "    <tr>\n",
       "      <th>44443435</th>\n",
       "      <td>1.0</td>\n",
       "      <td>0.610169</td>\n",
       "      <td>0.574361</td>\n",
       "      <td>0.017405</td>\n",
       "    </tr>\n",
       "    <tr>\n",
       "      <th>44443436</th>\n",
       "      <td>1.0</td>\n",
       "      <td>0.610169</td>\n",
       "      <td>0.590554</td>\n",
       "      <td>0.017405</td>\n",
       "    </tr>\n",
       "    <tr>\n",
       "      <th>44443437</th>\n",
       "      <td>1.0</td>\n",
       "      <td>0.610169</td>\n",
       "      <td>0.757680</td>\n",
       "      <td>0.017405</td>\n",
       "    </tr>\n",
       "    <tr>\n",
       "      <th>44443438</th>\n",
       "      <td>1.0</td>\n",
       "      <td>0.610169</td>\n",
       "      <td>0.814651</td>\n",
       "      <td>0.017405</td>\n",
       "    </tr>\n",
       "    <tr>\n",
       "      <th>44443439</th>\n",
       "      <td>1.0</td>\n",
       "      <td>0.610169</td>\n",
       "      <td>0.718345</td>\n",
       "      <td>0.017405</td>\n",
       "    </tr>\n",
       "  </tbody>\n",
       "</table>\n",
       "<p>1307160 rows × 4 columns</p>\n",
       "</div>"
      ],
      "text/plain": [
       "          date_block_num   shop_id   item_id  item_cnt_month\n",
       "43136280             1.0  0.000000  0.001443        0.017405\n",
       "43136281             1.0  0.000000  0.001489        0.017405\n",
       "43136282             1.0  0.000000  0.001579        0.017405\n",
       "43136283             1.0  0.000000  0.001940        0.017405\n",
       "43136284             1.0  0.000000  0.002301        0.017405\n",
       "...                  ...       ...       ...             ...\n",
       "44443435             1.0  0.610169  0.574361        0.017405\n",
       "44443436             1.0  0.610169  0.590554        0.017405\n",
       "44443437             1.0  0.610169  0.757680        0.017405\n",
       "44443438             1.0  0.610169  0.814651        0.017405\n",
       "44443439             1.0  0.610169  0.718345        0.017405\n",
       "\n",
       "[1307160 rows x 4 columns]"
      ]
     },
     "execution_count": 52,
     "metadata": {},
     "output_type": "execute_result"
    }
   ],
   "source": [
    "dfScaled.iloc[-last_month_size:,:]"
   ]
  },
  {
   "cell_type": "code",
   "execution_count": 54,
   "id": "e4b8a483-d761-4997-a46a-fda03d4f7aa2",
   "metadata": {},
   "outputs": [],
   "source": [
    "# Predict using the last month and submit to Kaggle Competition\n",
    "testx = np.array(dfScaled.iloc[-last_month_size:,:].reset_index().drop(['index'],axis=1))\n",
    "testx = np.reshape(testx, (testx.shape[0], 1, 4))\n",
    "predict34 = model.predict(testx)"
   ]
  },
  {
   "cell_type": "code",
   "execution_count": 55,
   "id": "0d43d4ad-9d77-4a4e-97b1-865d3d1e2410",
   "metadata": {},
   "outputs": [
    {
     "data": {
      "text/plain": [
       "array([[0.01742227],\n",
       "       [0.01742227],\n",
       "       [0.01742228],\n",
       "       ...,\n",
       "       [0.01732376],\n",
       "       [0.01732335],\n",
       "       [0.01732411]], dtype=float32)"
      ]
     },
     "execution_count": 55,
     "metadata": {},
     "output_type": "execute_result"
    }
   ],
   "source": [
    "predict34"
   ]
  },
  {
   "cell_type": "code",
   "execution_count": 56,
   "id": "b393042d-5f97-43d8-87be-43494ace4ae9",
   "metadata": {},
   "outputs": [],
   "source": [
    "dfYhatTest = dfScaled.iloc[-last_month_size:,:].reset_index().drop(['index'],axis=1)"
   ]
  },
  {
   "cell_type": "code",
   "execution_count": 57,
   "id": "bbbee595-a7d8-42cf-913a-7ee16b713d1a",
   "metadata": {},
   "outputs": [],
   "source": [
    "dfYhatTest['item_cnt_month'] =predict34"
   ]
  },
  {
   "cell_type": "code",
   "execution_count": 86,
   "id": "0589c2e1-543e-443d-bea5-d8a2008b17eb",
   "metadata": {},
   "outputs": [],
   "source": [
    "predict34_unscaled = scaler.inverse_transform(dfYhatTest)"
   ]
  },
  {
   "cell_type": "code",
   "execution_count": 87,
   "id": "b694e76e-4ed4-48be-832d-4f06beef2dc7",
   "metadata": {},
   "outputs": [
    {
     "data": {
      "text/plain": [
       "array([[ 3.30000000e+01,  0.00000000e+00,  3.20000000e+01,\n",
       "         2.17446089e-02],\n",
       "       [ 3.30000000e+01,  0.00000000e+00,  3.30000000e+01,\n",
       "         2.17516720e-02],\n",
       "       [ 3.30000000e+01,  0.00000000e+00,  3.50000000e+01,\n",
       "         2.17634439e-02],\n",
       "       ...,\n",
       "       [ 3.30000000e+01,  3.60000000e+01,  1.67970000e+04,\n",
       "        -1.02769315e-01],\n",
       "       [ 3.30000000e+01,  3.60000000e+01,  1.80600000e+04,\n",
       "        -1.03284925e-01],\n",
       "       [ 3.30000000e+01,  3.60000000e+01,  1.59250000e+04,\n",
       "        -1.02326691e-01]])"
      ]
     },
     "execution_count": 87,
     "metadata": {},
     "output_type": "execute_result"
    }
   ],
   "source": [
    "predict34_unscaled"
   ]
  },
  {
   "cell_type": "code",
   "execution_count": 125,
   "id": "7b2280b1-92de-4143-8c26-cef12452c75e",
   "metadata": {},
   "outputs": [],
   "source": [
    "dfPredict34 = pd.DataFrame(data=predict34_unscaled, columns=['date_block_num','shop_id','item_id','item_cnt_month'])"
   ]
  },
  {
   "cell_type": "code",
   "execution_count": 126,
   "id": "c56edf1f-61e0-45cf-adce-182a21029a8c",
   "metadata": {},
   "outputs": [],
   "source": [
    "dfPredict34['date_block_num'] = np.around(dfPredict34['date_block_num'])\n",
    "dfPredict34['shop_id'] = np.around(dfPredict34['shop_id'])\n",
    "dfPredict34['item_id'] = np.around(dfPredict34['item_id'])\n",
    "\n",
    "dfPredict34 = dfPredict34.astype({'date_block_num':int,'shop_id':int,'item_id':int})"
   ]
  },
  {
   "cell_type": "code",
   "execution_count": 127,
   "id": "ed533fbd-aabb-4a3d-84e1-090cad8cd032",
   "metadata": {},
   "outputs": [
    {
     "data": {
      "text/html": [
       "<div>\n",
       "<style scoped>\n",
       "    .dataframe tbody tr th:only-of-type {\n",
       "        vertical-align: middle;\n",
       "    }\n",
       "\n",
       "    .dataframe tbody tr th {\n",
       "        vertical-align: top;\n",
       "    }\n",
       "\n",
       "    .dataframe thead th {\n",
       "        text-align: right;\n",
       "    }\n",
       "</style>\n",
       "<table border=\"1\" class=\"dataframe\">\n",
       "  <thead>\n",
       "    <tr style=\"text-align: right;\">\n",
       "      <th></th>\n",
       "      <th>date_block_num</th>\n",
       "      <th>shop_id</th>\n",
       "      <th>item_id</th>\n",
       "      <th>item_cnt_month</th>\n",
       "    </tr>\n",
       "  </thead>\n",
       "  <tbody>\n",
       "  </tbody>\n",
       "</table>\n",
       "</div>"
      ],
      "text/plain": [
       "Empty DataFrame\n",
       "Columns: [date_block_num, shop_id, item_id, item_cnt_month]\n",
       "Index: []"
      ]
     },
     "execution_count": 127,
     "metadata": {},
     "output_type": "execute_result"
    }
   ],
   "source": [
    "# Check for duplicates\n",
    "dfPredict34[dfPredict34.duplicated(subset=['shop_id','item_id'])]\n",
    "# This might be a rounding issue\n",
    "# Looks good now that I rounded before casting to int\n",
    "# I was getting an error that I could merge dataframes on a non-unique multi index. \n",
    "# The code in the above block fixed that issue"
   ]
  },
  {
   "cell_type": "code",
   "execution_count": 134,
   "id": "a1e29ca7-07a7-4b87-bbb9-1b92c20314d1",
   "metadata": {},
   "outputs": [],
   "source": [
    "# I am going to merge with test so I want to make shop_id and item_id the indices\n",
    "dfPredict34.set_index(['shop_id','item_id'],inplace=True)"
   ]
  },
  {
   "cell_type": "code",
   "execution_count": 120,
   "id": "302081f0-49b6-40b8-91d2-80188c10f08b",
   "metadata": {},
   "outputs": [],
   "source": [
    "dfTest = pd.read_csv(\"../input/future-sales/test.csv\")"
   ]
  },
  {
   "cell_type": "code",
   "execution_count": 121,
   "id": "41e54df0-5335-49f7-b714-72bb63587d42",
   "metadata": {},
   "outputs": [
    {
     "data": {
      "text/html": [
       "<div>\n",
       "<style scoped>\n",
       "    .dataframe tbody tr th:only-of-type {\n",
       "        vertical-align: middle;\n",
       "    }\n",
       "\n",
       "    .dataframe tbody tr th {\n",
       "        vertical-align: top;\n",
       "    }\n",
       "\n",
       "    .dataframe thead th {\n",
       "        text-align: right;\n",
       "    }\n",
       "</style>\n",
       "<table border=\"1\" class=\"dataframe\">\n",
       "  <thead>\n",
       "    <tr style=\"text-align: right;\">\n",
       "      <th></th>\n",
       "      <th>ID</th>\n",
       "      <th>shop_id</th>\n",
       "      <th>item_id</th>\n",
       "    </tr>\n",
       "  </thead>\n",
       "  <tbody>\n",
       "  </tbody>\n",
       "</table>\n",
       "</div>"
      ],
      "text/plain": [
       "Empty DataFrame\n",
       "Columns: [ID, shop_id, item_id]\n",
       "Index: []"
      ]
     },
     "execution_count": 121,
     "metadata": {},
     "output_type": "execute_result"
    }
   ],
   "source": [
    "dfTest[dfTest.duplicated(subset=['shop_id','item_id'])]\n",
    "# This df looks good on duplicated"
   ]
  },
  {
   "cell_type": "code",
   "execution_count": 129,
   "id": "b6d0bfe9-ae52-4bf0-b6fa-c6bce3b3bde0",
   "metadata": {},
   "outputs": [],
   "source": [
    "dfTest.set_index(['shop_id','item_id'],inplace=True)"
   ]
  },
  {
   "cell_type": "code",
   "execution_count": 130,
   "id": "7857f007-f7ca-4868-9e8c-f586582b1cb5",
   "metadata": {},
   "outputs": [
    {
     "data": {
      "text/html": [
       "<div>\n",
       "<style scoped>\n",
       "    .dataframe tbody tr th:only-of-type {\n",
       "        vertical-align: middle;\n",
       "    }\n",
       "\n",
       "    .dataframe tbody tr th {\n",
       "        vertical-align: top;\n",
       "    }\n",
       "\n",
       "    .dataframe thead th {\n",
       "        text-align: right;\n",
       "    }\n",
       "</style>\n",
       "<table border=\"1\" class=\"dataframe\">\n",
       "  <thead>\n",
       "    <tr style=\"text-align: right;\">\n",
       "      <th></th>\n",
       "      <th></th>\n",
       "      <th>ID</th>\n",
       "    </tr>\n",
       "    <tr>\n",
       "      <th>shop_id</th>\n",
       "      <th>item_id</th>\n",
       "      <th></th>\n",
       "    </tr>\n",
       "  </thead>\n",
       "  <tbody>\n",
       "    <tr>\n",
       "      <th rowspan=\"5\" valign=\"top\">5</th>\n",
       "      <th>5037</th>\n",
       "      <td>0</td>\n",
       "    </tr>\n",
       "    <tr>\n",
       "      <th>5320</th>\n",
       "      <td>1</td>\n",
       "    </tr>\n",
       "    <tr>\n",
       "      <th>5233</th>\n",
       "      <td>2</td>\n",
       "    </tr>\n",
       "    <tr>\n",
       "      <th>5232</th>\n",
       "      <td>3</td>\n",
       "    </tr>\n",
       "    <tr>\n",
       "      <th>5268</th>\n",
       "      <td>4</td>\n",
       "    </tr>\n",
       "    <tr>\n",
       "      <th>...</th>\n",
       "      <th>...</th>\n",
       "      <td>...</td>\n",
       "    </tr>\n",
       "    <tr>\n",
       "      <th rowspan=\"5\" valign=\"top\">45</th>\n",
       "      <th>18454</th>\n",
       "      <td>214195</td>\n",
       "    </tr>\n",
       "    <tr>\n",
       "      <th>16188</th>\n",
       "      <td>214196</td>\n",
       "    </tr>\n",
       "    <tr>\n",
       "      <th>15757</th>\n",
       "      <td>214197</td>\n",
       "    </tr>\n",
       "    <tr>\n",
       "      <th>19648</th>\n",
       "      <td>214198</td>\n",
       "    </tr>\n",
       "    <tr>\n",
       "      <th>969</th>\n",
       "      <td>214199</td>\n",
       "    </tr>\n",
       "  </tbody>\n",
       "</table>\n",
       "<p>214200 rows × 1 columns</p>\n",
       "</div>"
      ],
      "text/plain": [
       "                     ID\n",
       "shop_id item_id        \n",
       "5       5037          0\n",
       "        5320          1\n",
       "        5233          2\n",
       "        5232          3\n",
       "        5268          4\n",
       "...                 ...\n",
       "45      18454    214195\n",
       "        16188    214196\n",
       "        15757    214197\n",
       "        19648    214198\n",
       "        969      214199\n",
       "\n",
       "[214200 rows x 1 columns]"
      ]
     },
     "execution_count": 130,
     "metadata": {},
     "output_type": "execute_result"
    }
   ],
   "source": [
    "dfTest"
   ]
  },
  {
   "cell_type": "code",
   "execution_count": 135,
   "id": "9d5bd697-5f57-492b-bc41-412da8b05207",
   "metadata": {},
   "outputs": [],
   "source": [
    "dfTest['item_cnt_month'] = dfPredict34['item_cnt_month']"
   ]
  },
  {
   "cell_type": "code",
   "execution_count": 136,
   "id": "ffe8823a-285c-4137-bc2f-d8e7c2697ab0",
   "metadata": {},
   "outputs": [
    {
     "data": {
      "text/html": [
       "<div>\n",
       "<style scoped>\n",
       "    .dataframe tbody tr th:only-of-type {\n",
       "        vertical-align: middle;\n",
       "    }\n",
       "\n",
       "    .dataframe tbody tr th {\n",
       "        vertical-align: top;\n",
       "    }\n",
       "\n",
       "    .dataframe thead th {\n",
       "        text-align: right;\n",
       "    }\n",
       "</style>\n",
       "<table border=\"1\" class=\"dataframe\">\n",
       "  <thead>\n",
       "    <tr style=\"text-align: right;\">\n",
       "      <th></th>\n",
       "      <th></th>\n",
       "      <th>date_block_num</th>\n",
       "      <th>item_cnt_month</th>\n",
       "    </tr>\n",
       "    <tr>\n",
       "      <th>shop_id</th>\n",
       "      <th>item_id</th>\n",
       "      <th></th>\n",
       "      <th></th>\n",
       "    </tr>\n",
       "  </thead>\n",
       "  <tbody>\n",
       "    <tr>\n",
       "      <th rowspan=\"5\" valign=\"top\">0</th>\n",
       "      <th>32</th>\n",
       "      <td>33</td>\n",
       "      <td>0.021745</td>\n",
       "    </tr>\n",
       "    <tr>\n",
       "      <th>33</th>\n",
       "      <td>33</td>\n",
       "      <td>0.021752</td>\n",
       "    </tr>\n",
       "    <tr>\n",
       "      <th>35</th>\n",
       "      <td>33</td>\n",
       "      <td>0.021763</td>\n",
       "    </tr>\n",
       "    <tr>\n",
       "      <th>43</th>\n",
       "      <td>33</td>\n",
       "      <td>0.021813</td>\n",
       "    </tr>\n",
       "    <tr>\n",
       "      <th>51</th>\n",
       "      <td>33</td>\n",
       "      <td>0.021858</td>\n",
       "    </tr>\n",
       "    <tr>\n",
       "      <th>...</th>\n",
       "      <th>...</th>\n",
       "      <td>...</td>\n",
       "      <td>...</td>\n",
       "    </tr>\n",
       "    <tr>\n",
       "      <th rowspan=\"5\" valign=\"top\">36</th>\n",
       "      <th>12733</th>\n",
       "      <td>33</td>\n",
       "      <td>-0.100158</td>\n",
       "    </tr>\n",
       "    <tr>\n",
       "      <th>13092</th>\n",
       "      <td>33</td>\n",
       "      <td>-0.100438</td>\n",
       "    </tr>\n",
       "    <tr>\n",
       "      <th>16797</th>\n",
       "      <td>33</td>\n",
       "      <td>-0.102769</td>\n",
       "    </tr>\n",
       "    <tr>\n",
       "      <th>18060</th>\n",
       "      <td>33</td>\n",
       "      <td>-0.103285</td>\n",
       "    </tr>\n",
       "    <tr>\n",
       "      <th>15925</th>\n",
       "      <td>33</td>\n",
       "      <td>-0.102327</td>\n",
       "    </tr>\n",
       "  </tbody>\n",
       "</table>\n",
       "<p>1307160 rows × 2 columns</p>\n",
       "</div>"
      ],
      "text/plain": [
       "                 date_block_num  item_cnt_month\n",
       "shop_id item_id                                \n",
       "0       32                   33        0.021745\n",
       "        33                   33        0.021752\n",
       "        35                   33        0.021763\n",
       "        43                   33        0.021813\n",
       "        51                   33        0.021858\n",
       "...                         ...             ...\n",
       "36      12733                33       -0.100158\n",
       "        13092                33       -0.100438\n",
       "        16797                33       -0.102769\n",
       "        18060                33       -0.103285\n",
       "        15925                33       -0.102327\n",
       "\n",
       "[1307160 rows x 2 columns]"
      ]
     },
     "execution_count": 136,
     "metadata": {},
     "output_type": "execute_result"
    }
   ],
   "source": [
    "dfPredict34"
   ]
  },
  {
   "cell_type": "code",
   "execution_count": 141,
   "id": "438bef50-d867-4a35-aecb-c39e0ba3a281",
   "metadata": {},
   "outputs": [
    {
     "data": {
      "text/html": [
       "<div>\n",
       "<style scoped>\n",
       "    .dataframe tbody tr th:only-of-type {\n",
       "        vertical-align: middle;\n",
       "    }\n",
       "\n",
       "    .dataframe tbody tr th {\n",
       "        vertical-align: top;\n",
       "    }\n",
       "\n",
       "    .dataframe thead th {\n",
       "        text-align: right;\n",
       "    }\n",
       "</style>\n",
       "<table border=\"1\" class=\"dataframe\">\n",
       "  <thead>\n",
       "    <tr style=\"text-align: right;\">\n",
       "      <th></th>\n",
       "      <th></th>\n",
       "      <th>ID</th>\n",
       "      <th>item_cnt_month</th>\n",
       "    </tr>\n",
       "    <tr>\n",
       "      <th>shop_id</th>\n",
       "      <th>item_id</th>\n",
       "      <th></th>\n",
       "      <th></th>\n",
       "    </tr>\n",
       "  </thead>\n",
       "  <tbody>\n",
       "    <tr>\n",
       "      <th rowspan=\"5\" valign=\"top\">5</th>\n",
       "      <th>5320</th>\n",
       "      <td>1</td>\n",
       "      <td>NaN</td>\n",
       "    </tr>\n",
       "    <tr>\n",
       "      <th>5268</th>\n",
       "      <td>4</td>\n",
       "      <td>NaN</td>\n",
       "    </tr>\n",
       "    <tr>\n",
       "      <th>5826</th>\n",
       "      <td>45</td>\n",
       "      <td>NaN</td>\n",
       "    </tr>\n",
       "    <tr>\n",
       "      <th>3731</th>\n",
       "      <td>54</td>\n",
       "      <td>NaN</td>\n",
       "    </tr>\n",
       "    <tr>\n",
       "      <th>3538</th>\n",
       "      <td>64</td>\n",
       "      <td>NaN</td>\n",
       "    </tr>\n",
       "    <tr>\n",
       "      <th>...</th>\n",
       "      <th>...</th>\n",
       "      <td>...</td>\n",
       "      <td>...</td>\n",
       "    </tr>\n",
       "    <tr>\n",
       "      <th rowspan=\"5\" valign=\"top\">45</th>\n",
       "      <th>15033</th>\n",
       "      <td>214130</td>\n",
       "      <td>NaN</td>\n",
       "    </tr>\n",
       "    <tr>\n",
       "      <th>7572</th>\n",
       "      <td>214150</td>\n",
       "      <td>NaN</td>\n",
       "    </tr>\n",
       "    <tr>\n",
       "      <th>9030</th>\n",
       "      <td>214154</td>\n",
       "      <td>NaN</td>\n",
       "    </tr>\n",
       "    <tr>\n",
       "      <th>1867</th>\n",
       "      <td>214161</td>\n",
       "      <td>NaN</td>\n",
       "    </tr>\n",
       "    <tr>\n",
       "      <th>12470</th>\n",
       "      <td>214173</td>\n",
       "      <td>NaN</td>\n",
       "    </tr>\n",
       "  </tbody>\n",
       "</table>\n",
       "<p>15414 rows × 2 columns</p>\n",
       "</div>"
      ],
      "text/plain": [
       "                     ID  item_cnt_month\n",
       "shop_id item_id                        \n",
       "5       5320          1             NaN\n",
       "        5268          4             NaN\n",
       "        5826         45             NaN\n",
       "        3731         54             NaN\n",
       "        3538         64             NaN\n",
       "...                 ...             ...\n",
       "45      15033    214130             NaN\n",
       "        7572     214150             NaN\n",
       "        9030     214154             NaN\n",
       "        1867     214161             NaN\n",
       "        12470    214173             NaN\n",
       "\n",
       "[15414 rows x 2 columns]"
      ]
     },
     "execution_count": 141,
     "metadata": {},
     "output_type": "execute_result"
    }
   ],
   "source": [
    "dfTest[dfTest['item_cnt_month'].isnull()]\n",
    "# It looks like there are new iteams that are not in training\n",
    "# and I will need to impute values\n",
    "\n",
    "# This leads back to an issue that was missed during exploratory data analysis (EDA)\n",
    "# I created a dataframe with every item and shop listed for each month IF the item was in the tranining data\n",
    "# I did not use the items.csv for anything\n",
    "# The test data had items that were not in the training data at all\n",
    "# I will discuss this more in the analysis and results section"
   ]
  },
  {
   "cell_type": "code",
   "execution_count": 142,
   "id": "1f097a44-0510-4c48-8961-acc2119d9217",
   "metadata": {},
   "outputs": [],
   "source": [
    "dfTest.reset_index(inplace=True)\n",
    "dfPredict34.reset_index(inplace=True)"
   ]
  },
  {
   "cell_type": "code",
   "execution_count": 153,
   "id": "06e4d33e-d8b8-409a-9fbd-bfa4720b0938",
   "metadata": {},
   "outputs": [],
   "source": [
    "missing_items = dfTest[dfTest['item_cnt_month'].isnull()]['item_id'].unique()"
   ]
  },
  {
   "cell_type": "code",
   "execution_count": 157,
   "id": "6682b321-cdeb-4753-aafe-9ef10d002c54",
   "metadata": {},
   "outputs": [
    {
     "data": {
      "text/html": [
       "<div>\n",
       "<style scoped>\n",
       "    .dataframe tbody tr th:only-of-type {\n",
       "        vertical-align: middle;\n",
       "    }\n",
       "\n",
       "    .dataframe tbody tr th {\n",
       "        vertical-align: top;\n",
       "    }\n",
       "\n",
       "    .dataframe thead th {\n",
       "        text-align: right;\n",
       "    }\n",
       "</style>\n",
       "<table border=\"1\" class=\"dataframe\">\n",
       "  <thead>\n",
       "    <tr style=\"text-align: right;\">\n",
       "      <th></th>\n",
       "      <th>shop_id</th>\n",
       "      <th>item_id</th>\n",
       "      <th>date_block_num</th>\n",
       "      <th>item_cnt_month</th>\n",
       "    </tr>\n",
       "  </thead>\n",
       "  <tbody>\n",
       "  </tbody>\n",
       "</table>\n",
       "</div>"
      ],
      "text/plain": [
       "Empty DataFrame\n",
       "Columns: [shop_id, item_id, date_block_num, item_cnt_month]\n",
       "Index: []"
      ]
     },
     "execution_count": 157,
     "metadata": {},
     "output_type": "execute_result"
    }
   ],
   "source": [
    "dfPredict34[dfPredict34['item_id'].isin(missing_items)]"
   ]
  },
  {
   "cell_type": "code",
   "execution_count": 158,
   "id": "6f9750b4-d287-4eb3-8f29-08d1fc0741e7",
   "metadata": {},
   "outputs": [
    {
     "data": {
      "text/plain": [
       "367"
      ]
     },
     "execution_count": 158,
     "metadata": {},
     "output_type": "execute_result"
    }
   ],
   "source": [
    "# Manual inspection shows that several missing items are similar to the next item id over\n",
    "# This is not always true but will use it for initial impute\n",
    "# In many cases, it is the same game but on different platform\n",
    "# A better impute would check the text string then compare with statistical trends of the platform\n",
    "# Is PS4 or Xbox more popular?"
   ]
  },
  {
   "cell_type": "code",
   "execution_count": 185,
   "id": "ac937bf6-155a-48af-958f-cd5f2fe17cd3",
   "metadata": {},
   "outputs": [],
   "source": [
    "i = 0\n",
    "for index,row in dfTest[dfTest['item_cnt_month'].isnull()].iterrows():\n",
    "    item_id = row['item_id'].astype(int) \n",
    "    # Try add one\n",
    "    query_impute = dfPredict34['item_cnt_month'][(dfPredict34['item_id']==item_id +1 ) & (dfPredict34['shop_id']==row['shop_id'])]\n",
    "    if query_impute.shape[0] == 0: # Try  remove 1\n",
    "        query_impute = dfPredict34['item_cnt_month'][(dfPredict34['item_id']==item_id - 1 ) & (dfPredict34['shop_id']==row['shop_id'])]\n",
    "    dfTest.loc[index,'item_cnt_month'] = float(query_impute)"
   ]
  },
  {
   "cell_type": "code",
   "execution_count": 186,
   "id": "c3eba49b-115f-4366-b9c5-69e2813c09e0",
   "metadata": {},
   "outputs": [
    {
     "data": {
      "text/html": [
       "<div>\n",
       "<style scoped>\n",
       "    .dataframe tbody tr th:only-of-type {\n",
       "        vertical-align: middle;\n",
       "    }\n",
       "\n",
       "    .dataframe tbody tr th {\n",
       "        vertical-align: top;\n",
       "    }\n",
       "\n",
       "    .dataframe thead th {\n",
       "        text-align: right;\n",
       "    }\n",
       "</style>\n",
       "<table border=\"1\" class=\"dataframe\">\n",
       "  <thead>\n",
       "    <tr style=\"text-align: right;\">\n",
       "      <th></th>\n",
       "      <th>shop_id</th>\n",
       "      <th>item_id</th>\n",
       "      <th>ID</th>\n",
       "      <th>item_cnt_month</th>\n",
       "    </tr>\n",
       "  </thead>\n",
       "  <tbody>\n",
       "  </tbody>\n",
       "</table>\n",
       "</div>"
      ],
      "text/plain": [
       "Empty DataFrame\n",
       "Columns: [shop_id, item_id, ID, item_cnt_month]\n",
       "Index: []"
      ]
     },
     "execution_count": 186,
     "metadata": {},
     "output_type": "execute_result"
    }
   ],
   "source": [
    "# Check for NaNs now\n",
    "dfTest[dfTest['item_cnt_month'].isnull()]\n"
   ]
  },
  {
   "cell_type": "code",
   "execution_count": 187,
   "id": "f7fcd0e3-115e-4115-9287-55bf98a1d8a7",
   "metadata": {},
   "outputs": [
    {
     "data": {
      "text/plain": [
       "30.731201887130737"
      ]
     },
     "execution_count": 187,
     "metadata": {},
     "output_type": "execute_result"
    }
   ],
   "source": [
    "max(dfTest['item_cnt_month'])"
   ]
  },
  {
   "cell_type": "code",
   "execution_count": 62,
   "id": "7f324711-0aea-4874-ad95-4f1ab2c3e646",
   "metadata": {},
   "outputs": [
    {
     "data": {
      "text/plain": [
       "-0.338518440723418"
      ]
     },
     "execution_count": 62,
     "metadata": {},
     "output_type": "execute_result"
    }
   ],
   "source": [
    "min(dfTest['item_cnt_month'])"
   ]
  },
  {
   "cell_type": "code",
   "execution_count": 188,
   "id": "7070d822-2ff9-4e60-a16c-4f39cdad4b4a",
   "metadata": {},
   "outputs": [
    {
     "data": {
      "text/plain": [
       "(214200, 4)"
      ]
     },
     "execution_count": 188,
     "metadata": {},
     "output_type": "execute_result"
    }
   ],
   "source": [
    "dfTest.shape"
   ]
  },
  {
   "cell_type": "code",
   "execution_count": 189,
   "id": "2d045b0d-d934-40bf-8c12-b31520f83725",
   "metadata": {},
   "outputs": [
    {
     "data": {
      "text/html": [
       "<div>\n",
       "<style scoped>\n",
       "    .dataframe tbody tr th:only-of-type {\n",
       "        vertical-align: middle;\n",
       "    }\n",
       "\n",
       "    .dataframe tbody tr th {\n",
       "        vertical-align: top;\n",
       "    }\n",
       "\n",
       "    .dataframe thead th {\n",
       "        text-align: right;\n",
       "    }\n",
       "</style>\n",
       "<table border=\"1\" class=\"dataframe\">\n",
       "  <thead>\n",
       "    <tr style=\"text-align: right;\">\n",
       "      <th></th>\n",
       "      <th>shop_id</th>\n",
       "      <th>item_id</th>\n",
       "      <th>ID</th>\n",
       "      <th>item_cnt_month</th>\n",
       "    </tr>\n",
       "  </thead>\n",
       "  <tbody>\n",
       "    <tr>\n",
       "      <th>0</th>\n",
       "      <td>5</td>\n",
       "      <td>5037</td>\n",
       "      <td>0</td>\n",
       "      <td>0.039118</td>\n",
       "    </tr>\n",
       "    <tr>\n",
       "      <th>1</th>\n",
       "      <td>5</td>\n",
       "      <td>5320</td>\n",
       "      <td>1</td>\n",
       "      <td>0.033375</td>\n",
       "    </tr>\n",
       "    <tr>\n",
       "      <th>2</th>\n",
       "      <td>5</td>\n",
       "      <td>5233</td>\n",
       "      <td>2</td>\n",
       "      <td>0.145055</td>\n",
       "    </tr>\n",
       "    <tr>\n",
       "      <th>3</th>\n",
       "      <td>5</td>\n",
       "      <td>5232</td>\n",
       "      <td>3</td>\n",
       "      <td>0.039855</td>\n",
       "    </tr>\n",
       "    <tr>\n",
       "      <th>4</th>\n",
       "      <td>5</td>\n",
       "      <td>5268</td>\n",
       "      <td>4</td>\n",
       "      <td>0.033375</td>\n",
       "    </tr>\n",
       "    <tr>\n",
       "      <th>...</th>\n",
       "      <td>...</td>\n",
       "      <td>...</td>\n",
       "      <td>...</td>\n",
       "      <td>...</td>\n",
       "    </tr>\n",
       "    <tr>\n",
       "      <th>214195</th>\n",
       "      <td>45</td>\n",
       "      <td>18454</td>\n",
       "      <td>214195</td>\n",
       "      <td>-0.071913</td>\n",
       "    </tr>\n",
       "    <tr>\n",
       "      <th>214196</th>\n",
       "      <td>45</td>\n",
       "      <td>16188</td>\n",
       "      <td>214196</td>\n",
       "      <td>-0.178715</td>\n",
       "    </tr>\n",
       "    <tr>\n",
       "      <th>214197</th>\n",
       "      <td>45</td>\n",
       "      <td>15757</td>\n",
       "      <td>214197</td>\n",
       "      <td>-0.177975</td>\n",
       "    </tr>\n",
       "    <tr>\n",
       "      <th>214198</th>\n",
       "      <td>45</td>\n",
       "      <td>19648</td>\n",
       "      <td>214198</td>\n",
       "      <td>-0.183713</td>\n",
       "    </tr>\n",
       "    <tr>\n",
       "      <th>214199</th>\n",
       "      <td>45</td>\n",
       "      <td>969</td>\n",
       "      <td>214199</td>\n",
       "      <td>-0.145012</td>\n",
       "    </tr>\n",
       "  </tbody>\n",
       "</table>\n",
       "<p>214200 rows × 4 columns</p>\n",
       "</div>"
      ],
      "text/plain": [
       "        shop_id  item_id      ID  item_cnt_month\n",
       "0             5     5037       0        0.039118\n",
       "1             5     5320       1        0.033375\n",
       "2             5     5233       2        0.145055\n",
       "3             5     5232       3        0.039855\n",
       "4             5     5268       4        0.033375\n",
       "...         ...      ...     ...             ...\n",
       "214195       45    18454  214195       -0.071913\n",
       "214196       45    16188  214196       -0.178715\n",
       "214197       45    15757  214197       -0.177975\n",
       "214198       45    19648  214198       -0.183713\n",
       "214199       45      969  214199       -0.145012\n",
       "\n",
       "[214200 rows x 4 columns]"
      ]
     },
     "execution_count": 189,
     "metadata": {},
     "output_type": "execute_result"
    }
   ],
   "source": [
    "dfTest"
   ]
  },
  {
   "cell_type": "code",
   "execution_count": 193,
   "id": "3d14afc8-b4cd-4f86-a656-f5ea3ad23321",
   "metadata": {},
   "outputs": [],
   "source": [
    "# Save CSV\n",
    "dfTest[['ID','item_cnt_month']].to_csv(\"sample_submission.csv\",index=False)"
   ]
  },
  {
   "cell_type": "code",
   "execution_count": 190,
   "id": "c259da5f-dce5-4954-8b9e-c9f9f60ee0fc",
   "metadata": {},
   "outputs": [
    {
     "data": {
      "text/plain": [
       "<AxesSubplot:xlabel='item_cnt_month', ylabel='Count'>"
      ]
     },
     "execution_count": 190,
     "metadata": {},
     "output_type": "execute_result"
    },
    {
     "data": {
      "image/png": "[encoded data removed]",
      "text/plain": [
       "<Figure size 432x288 with 1 Axes>"
      ]
     },
     "metadata": {
      "needs_background": "light"
     },
     "output_type": "display_data"
    }
   ],
   "source": [
    "sns.histplot(dfTest['item_cnt_month'])"
   ]
  },
  {
   "cell_type": "markdown",
   "id": "ce907130-6b1e-4ffa-b491-be008dff1f96",
   "metadata": {},
   "source": [
    "## Analysis and Results"
   ]
  },
  {
   "cell_type": "markdown",
   "id": "3b9bfa2b-d964-40ed-80b8-2e1194a89c3b",
   "metadata": {},
   "source": [
    "* The Kaggle Score for test data is 1.18078\n",
    "   * I assume that is RMSE on test data which is similar to what I had on train\n",
    "   * This puts me in the mid place on the leaderboard\n",
    "\n",
    "\n",
    "* What went well\n",
    "    * The general idea of the LSTM model showed promise for this problem\n",
    "    * The scaled RMSE on the training data was very low\n",
    "    * The training time over this very large model using a notebook with 30 GB of RAM and 8 cores was approximately 1 day\n",
    "\n",
    "* What can be improved\n",
    "   * A deeper network would improve performance\n",
    "   * Using more epochs could improve performance. We limited our model to 20 epochs and used an early stop to cut that off if loss didn't improve in 3 epochs\n",
    "   * The biggest issue is with feature value clustering and imputing values\n",
    "   * We could improve the model by using unsupervised techniques to cluster items and shops\n",
    "   * The items include categories that have some value but we need additional clustering\n",
    "   * The item clusters are things such as Games - Xbox, Accessories - Xbox, Games - PS4 and various book, music, and video categories\n",
    "   * These could help with imputing missing values in the test and training data\n",
    "   * An issue with this type of data is that many of these items come out on a certain date, have a spike, then fade\n",
    "   * To properly trend items we need to track trends on a few axis\n",
    "   * Some of this could include natural language proceessing. \n",
    "   * For example, if we have data on the sales for the release month of 2 different Call of Duty games and we have new Call of Duty game in the test data, we can assume it will have similar results\n",
    "   * In another example, if the release date of a game on Xbox was in November but was in December for PS4, we could use the Xbox data, scaled by platform popularity to estimate the value for the PS4 version.\n"
   ]
  },
  {
   "cell_type": "markdown",
   "id": "5b4c0068-fcda-40b5-bcc1-5c6315e2d2ac",
   "metadata": {},
   "source": [
    "## References\n",
    "* https://www.tutorialspoint.com/time_series/time_series_lstm_model.htm\n",
    "* https://machinelearningmastery.com/time-series-prediction-lstm-recurrent-neural-networks-python-keras/\n",
    "* https://stackoverflow.com/questions/41233635/meaning-of-inter-op-parallelism-threads-and-intra-op-parallelism-threads\n"
   ]
  }
 ],
 "metadata": {
  "kernelspec": {
   "display_name": "Python 3 (ipykernel)",
   "language": "python",
   "name": "python3"
  },
  "language_info": {
   "codemirror_mode": {
    "name": "ipython",
    "version": 3
   },
   "file_extension": ".py",
   "mimetype": "text/x-python",
   "name": "python",
   "nbconvert_exporter": "python",
   "pygments_lexer": "ipython3",
   "version": "3.7.12"
  }
 },
 "nbformat": 4,
 "nbformat_minor": 5
}
